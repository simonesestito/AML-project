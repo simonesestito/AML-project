{
  "cells": [
    {
      "cell_type": "code",
      "source": [
        "import os\n",
        "\n",
        "# Make this try/except to let this notebook work on Drive but also locally\n",
        "try:\n",
        "  from google.colab import drive\n",
        "  drive.mount('/content/drive')\n",
        "\n",
        "  DRIVE_PATH = '/content/drive/MyDrive/Final_Project/'\n",
        "  assert os.path.exists(DRIVE_PATH), 'Did you forget to create a shortcut in MyDrive named Final_Project this time as well? :('\n",
        "except ModuleNotFoundError:\n",
        "  DRIVE_PATH = '.'\n",
        "  assert os.path.abspath(os.getcwd()).split(os.path.sep)[-1] == 'Final_Project'\n",
        "\n",
        "%cd {DRIVE_PATH}\n",
        "!pwd\n",
        "!ls"
      ],
      "metadata": {
        "colab": {
          "base_uri": "https://localhost:8080/"
        },
        "id": "AJq0xkuVyLFx",
        "outputId": "dad14f1f-9b48-40e9-a05f-3d3478548b03"
      },
      "execution_count": null,
      "outputs": [
        {
          "output_type": "stream",
          "name": "stdout",
          "text": [
            "Mounted at /content/drive\n",
            "/content/drive/.shortcut-targets-by-id/1WdIP20OinXKeEN_xVOHEa6WVcY4eSO-k/Final_Project\n",
            "/content/drive/.shortcut-targets-by-id/1WdIP20OinXKeEN_xVOHEa6WVcY4eSO-k/Final_Project\n",
            "publicDataset  StudyOnSAPLMA.ipynb\n"
          ]
        }
      ]
    },
    {
      "cell_type": "markdown",
      "metadata": {
        "id": "_B73HH20vEJ6"
      },
      "source": [
        "# Install dependencies"
      ]
    },
    {
      "cell_type": "code",
      "execution_count": null,
      "metadata": {
        "id": "SZa9_tD7vEJ-",
        "colab": {
          "base_uri": "https://localhost:8080/"
        },
        "outputId": "312bb8aa-8554-45e8-ae7b-657c64b20851"
      },
      "outputs": [
        {
          "output_type": "stream",
          "name": "stdout",
          "text": [
            "Requirement already satisfied: huggingface-hub in /usr/local/lib/python3.10/dist-packages (0.26.2)\n",
            "Requirement already satisfied: transformers>=4.36 in /usr/local/lib/python3.10/dist-packages (4.46.2)\n",
            "Requirement already satisfied: accelerate>=0.26.0 in /usr/local/lib/python3.10/dist-packages (1.1.1)\n",
            "Requirement already satisfied: filelock in /usr/local/lib/python3.10/dist-packages (from huggingface-hub) (3.16.1)\n",
            "Requirement already satisfied: fsspec>=2023.5.0 in /usr/local/lib/python3.10/dist-packages (from huggingface-hub) (2024.10.0)\n",
            "Requirement already satisfied: packaging>=20.9 in /usr/local/lib/python3.10/dist-packages (from huggingface-hub) (24.2)\n",
            "Requirement already satisfied: pyyaml>=5.1 in /usr/local/lib/python3.10/dist-packages (from huggingface-hub) (6.0.2)\n",
            "Requirement already satisfied: requests in /usr/local/lib/python3.10/dist-packages (from huggingface-hub) (2.32.3)\n",
            "Requirement already satisfied: tqdm>=4.42.1 in /usr/local/lib/python3.10/dist-packages (from huggingface-hub) (4.66.6)\n",
            "Requirement already satisfied: typing-extensions>=3.7.4.3 in /usr/local/lib/python3.10/dist-packages (from huggingface-hub) (4.12.2)\n",
            "Requirement already satisfied: numpy>=1.17 in /usr/local/lib/python3.10/dist-packages (from transformers>=4.36) (1.26.4)\n",
            "Requirement already satisfied: regex!=2019.12.17 in /usr/local/lib/python3.10/dist-packages (from transformers>=4.36) (2024.9.11)\n",
            "Requirement already satisfied: safetensors>=0.4.1 in /usr/local/lib/python3.10/dist-packages (from transformers>=4.36) (0.4.5)\n",
            "Requirement already satisfied: tokenizers<0.21,>=0.20 in /usr/local/lib/python3.10/dist-packages (from transformers>=4.36) (0.20.3)\n",
            "Requirement already satisfied: psutil in /usr/local/lib/python3.10/dist-packages (from accelerate>=0.26.0) (5.9.5)\n",
            "Requirement already satisfied: torch>=1.10.0 in /usr/local/lib/python3.10/dist-packages (from accelerate>=0.26.0) (2.5.1+cu121)\n",
            "Requirement already satisfied: networkx in /usr/local/lib/python3.10/dist-packages (from torch>=1.10.0->accelerate>=0.26.0) (3.4.2)\n",
            "Requirement already satisfied: jinja2 in /usr/local/lib/python3.10/dist-packages (from torch>=1.10.0->accelerate>=0.26.0) (3.1.4)\n",
            "Requirement already satisfied: sympy==1.13.1 in /usr/local/lib/python3.10/dist-packages (from torch>=1.10.0->accelerate>=0.26.0) (1.13.1)\n",
            "Requirement already satisfied: mpmath<1.4,>=1.1.0 in /usr/local/lib/python3.10/dist-packages (from sympy==1.13.1->torch>=1.10.0->accelerate>=0.26.0) (1.3.0)\n",
            "Requirement already satisfied: charset-normalizer<4,>=2 in /usr/local/lib/python3.10/dist-packages (from requests->huggingface-hub) (3.4.0)\n",
            "Requirement already satisfied: idna<4,>=2.5 in /usr/local/lib/python3.10/dist-packages (from requests->huggingface-hub) (3.10)\n",
            "Requirement already satisfied: urllib3<3,>=1.21.1 in /usr/local/lib/python3.10/dist-packages (from requests->huggingface-hub) (2.2.3)\n",
            "Requirement already satisfied: certifi>=2017.4.17 in /usr/local/lib/python3.10/dist-packages (from requests->huggingface-hub) (2024.8.30)\n",
            "Requirement already satisfied: MarkupSafe>=2.0 in /usr/local/lib/python3.10/dist-packages (from jinja2->torch>=1.10.0->accelerate>=0.26.0) (3.0.2)\n",
            "Requirement already satisfied: matplotlib in /usr/local/lib/python3.10/dist-packages (3.8.0)\n",
            "Requirement already satisfied: seaborn in /usr/local/lib/python3.10/dist-packages (0.13.2)\n",
            "Requirement already satisfied: ipywidgets in /usr/local/lib/python3.10/dist-packages (7.7.1)\n",
            "Requirement already satisfied: contourpy>=1.0.1 in /usr/local/lib/python3.10/dist-packages (from matplotlib) (1.3.1)\n",
            "Requirement already satisfied: cycler>=0.10 in /usr/local/lib/python3.10/dist-packages (from matplotlib) (0.12.1)\n",
            "Requirement already satisfied: fonttools>=4.22.0 in /usr/local/lib/python3.10/dist-packages (from matplotlib) (4.55.0)\n",
            "Requirement already satisfied: kiwisolver>=1.0.1 in /usr/local/lib/python3.10/dist-packages (from matplotlib) (1.4.7)\n",
            "Requirement already satisfied: numpy<2,>=1.21 in /usr/local/lib/python3.10/dist-packages (from matplotlib) (1.26.4)\n",
            "Requirement already satisfied: packaging>=20.0 in /usr/local/lib/python3.10/dist-packages (from matplotlib) (24.2)\n",
            "Requirement already satisfied: pillow>=6.2.0 in /usr/local/lib/python3.10/dist-packages (from matplotlib) (11.0.0)\n",
            "Requirement already satisfied: pyparsing>=2.3.1 in /usr/local/lib/python3.10/dist-packages (from matplotlib) (3.2.0)\n",
            "Requirement already satisfied: python-dateutil>=2.7 in /usr/local/lib/python3.10/dist-packages (from matplotlib) (2.8.2)\n",
            "Requirement already satisfied: pandas>=1.2 in /usr/local/lib/python3.10/dist-packages (from seaborn) (2.2.2)\n",
            "Requirement already satisfied: ipykernel>=4.5.1 in /usr/local/lib/python3.10/dist-packages (from ipywidgets) (5.5.6)\n",
            "Requirement already satisfied: ipython-genutils~=0.2.0 in /usr/local/lib/python3.10/dist-packages (from ipywidgets) (0.2.0)\n",
            "Requirement already satisfied: traitlets>=4.3.1 in /usr/local/lib/python3.10/dist-packages (from ipywidgets) (5.7.1)\n",
            "Requirement already satisfied: widgetsnbextension~=3.6.0 in /usr/local/lib/python3.10/dist-packages (from ipywidgets) (3.6.10)\n",
            "Requirement already satisfied: ipython>=4.0.0 in /usr/local/lib/python3.10/dist-packages (from ipywidgets) (7.34.0)\n",
            "Requirement already satisfied: jupyterlab-widgets>=1.0.0 in /usr/local/lib/python3.10/dist-packages (from ipywidgets) (3.0.13)\n",
            "Requirement already satisfied: jupyter-client in /usr/local/lib/python3.10/dist-packages (from ipykernel>=4.5.1->ipywidgets) (6.1.12)\n",
            "Requirement already satisfied: tornado>=4.2 in /usr/local/lib/python3.10/dist-packages (from ipykernel>=4.5.1->ipywidgets) (6.3.3)\n",
            "Requirement already satisfied: setuptools>=18.5 in /usr/local/lib/python3.10/dist-packages (from ipython>=4.0.0->ipywidgets) (75.1.0)\n",
            "Collecting jedi>=0.16 (from ipython>=4.0.0->ipywidgets)\n",
            "  Downloading jedi-0.19.2-py2.py3-none-any.whl.metadata (22 kB)\n",
            "Requirement already satisfied: decorator in /usr/local/lib/python3.10/dist-packages (from ipython>=4.0.0->ipywidgets) (4.4.2)\n",
            "Requirement already satisfied: pickleshare in /usr/local/lib/python3.10/dist-packages (from ipython>=4.0.0->ipywidgets) (0.7.5)\n",
            "Requirement already satisfied: prompt-toolkit!=3.0.0,!=3.0.1,<3.1.0,>=2.0.0 in /usr/local/lib/python3.10/dist-packages (from ipython>=4.0.0->ipywidgets) (3.0.48)\n",
            "Requirement already satisfied: pygments in /usr/local/lib/python3.10/dist-packages (from ipython>=4.0.0->ipywidgets) (2.18.0)\n",
            "Requirement already satisfied: backcall in /usr/local/lib/python3.10/dist-packages (from ipython>=4.0.0->ipywidgets) (0.2.0)\n",
            "Requirement already satisfied: matplotlib-inline in /usr/local/lib/python3.10/dist-packages (from ipython>=4.0.0->ipywidgets) (0.1.7)\n",
            "Requirement already satisfied: pexpect>4.3 in /usr/local/lib/python3.10/dist-packages (from ipython>=4.0.0->ipywidgets) (4.9.0)\n",
            "Requirement already satisfied: pytz>=2020.1 in /usr/local/lib/python3.10/dist-packages (from pandas>=1.2->seaborn) (2024.2)\n",
            "Requirement already satisfied: tzdata>=2022.7 in /usr/local/lib/python3.10/dist-packages (from pandas>=1.2->seaborn) (2024.2)\n",
            "Requirement already satisfied: six>=1.5 in /usr/local/lib/python3.10/dist-packages (from python-dateutil>=2.7->matplotlib) (1.16.0)\n",
            "Requirement already satisfied: notebook>=4.4.1 in /usr/local/lib/python3.10/dist-packages (from widgetsnbextension~=3.6.0->ipywidgets) (6.5.5)\n",
            "Requirement already satisfied: parso<0.9.0,>=0.8.4 in /usr/local/lib/python3.10/dist-packages (from jedi>=0.16->ipython>=4.0.0->ipywidgets) (0.8.4)\n",
            "Requirement already satisfied: jinja2 in /usr/local/lib/python3.10/dist-packages (from notebook>=4.4.1->widgetsnbextension~=3.6.0->ipywidgets) (3.1.4)\n",
            "Requirement already satisfied: pyzmq<25,>=17 in /usr/local/lib/python3.10/dist-packages (from notebook>=4.4.1->widgetsnbextension~=3.6.0->ipywidgets) (24.0.1)\n",
            "Requirement already satisfied: argon2-cffi in /usr/local/lib/python3.10/dist-packages (from notebook>=4.4.1->widgetsnbextension~=3.6.0->ipywidgets) (23.1.0)\n",
            "Requirement already satisfied: jupyter-core>=4.6.1 in /usr/local/lib/python3.10/dist-packages (from notebook>=4.4.1->widgetsnbextension~=3.6.0->ipywidgets) (5.7.2)\n",
            "Requirement already satisfied: nbformat in /usr/local/lib/python3.10/dist-packages (from notebook>=4.4.1->widgetsnbextension~=3.6.0->ipywidgets) (5.10.4)\n",
            "Requirement already satisfied: nbconvert>=5 in /usr/local/lib/python3.10/dist-packages (from notebook>=4.4.1->widgetsnbextension~=3.6.0->ipywidgets) (7.16.4)\n",
            "Requirement already satisfied: nest-asyncio>=1.5 in /usr/local/lib/python3.10/dist-packages (from notebook>=4.4.1->widgetsnbextension~=3.6.0->ipywidgets) (1.6.0)\n",
            "Requirement already satisfied: Send2Trash>=1.8.0 in /usr/local/lib/python3.10/dist-packages (from notebook>=4.4.1->widgetsnbextension~=3.6.0->ipywidgets) (1.8.3)\n",
            "Requirement already satisfied: terminado>=0.8.3 in /usr/local/lib/python3.10/dist-packages (from notebook>=4.4.1->widgetsnbextension~=3.6.0->ipywidgets) (0.18.1)\n",
            "Requirement already satisfied: prometheus-client in /usr/local/lib/python3.10/dist-packages (from notebook>=4.4.1->widgetsnbextension~=3.6.0->ipywidgets) (0.21.0)\n",
            "Requirement already satisfied: nbclassic>=0.4.7 in /usr/local/lib/python3.10/dist-packages (from notebook>=4.4.1->widgetsnbextension~=3.6.0->ipywidgets) (1.1.0)\n",
            "Requirement already satisfied: ptyprocess>=0.5 in /usr/local/lib/python3.10/dist-packages (from pexpect>4.3->ipython>=4.0.0->ipywidgets) (0.7.0)\n",
            "Requirement already satisfied: wcwidth in /usr/local/lib/python3.10/dist-packages (from prompt-toolkit!=3.0.0,!=3.0.1,<3.1.0,>=2.0.0->ipython>=4.0.0->ipywidgets) (0.2.13)\n",
            "Requirement already satisfied: platformdirs>=2.5 in /usr/local/lib/python3.10/dist-packages (from jupyter-core>=4.6.1->notebook>=4.4.1->widgetsnbextension~=3.6.0->ipywidgets) (4.3.6)\n",
            "Requirement already satisfied: notebook-shim>=0.2.3 in /usr/local/lib/python3.10/dist-packages (from nbclassic>=0.4.7->notebook>=4.4.1->widgetsnbextension~=3.6.0->ipywidgets) (0.2.4)\n",
            "Requirement already satisfied: beautifulsoup4 in /usr/local/lib/python3.10/dist-packages (from nbconvert>=5->notebook>=4.4.1->widgetsnbextension~=3.6.0->ipywidgets) (4.12.3)\n",
            "Requirement already satisfied: bleach!=5.0.0 in /usr/local/lib/python3.10/dist-packages (from nbconvert>=5->notebook>=4.4.1->widgetsnbextension~=3.6.0->ipywidgets) (6.2.0)\n",
            "Requirement already satisfied: defusedxml in /usr/local/lib/python3.10/dist-packages (from nbconvert>=5->notebook>=4.4.1->widgetsnbextension~=3.6.0->ipywidgets) (0.7.1)\n",
            "Requirement already satisfied: jupyterlab-pygments in /usr/local/lib/python3.10/dist-packages (from nbconvert>=5->notebook>=4.4.1->widgetsnbextension~=3.6.0->ipywidgets) (0.3.0)\n",
            "Requirement already satisfied: markupsafe>=2.0 in /usr/local/lib/python3.10/dist-packages (from nbconvert>=5->notebook>=4.4.1->widgetsnbextension~=3.6.0->ipywidgets) (3.0.2)\n",
            "Requirement already satisfied: mistune<4,>=2.0.3 in /usr/local/lib/python3.10/dist-packages (from nbconvert>=5->notebook>=4.4.1->widgetsnbextension~=3.6.0->ipywidgets) (3.0.2)\n",
            "Requirement already satisfied: nbclient>=0.5.0 in /usr/local/lib/python3.10/dist-packages (from nbconvert>=5->notebook>=4.4.1->widgetsnbextension~=3.6.0->ipywidgets) (0.10.0)\n",
            "Requirement already satisfied: pandocfilters>=1.4.1 in /usr/local/lib/python3.10/dist-packages (from nbconvert>=5->notebook>=4.4.1->widgetsnbextension~=3.6.0->ipywidgets) (1.5.1)\n",
            "Requirement already satisfied: tinycss2 in /usr/local/lib/python3.10/dist-packages (from nbconvert>=5->notebook>=4.4.1->widgetsnbextension~=3.6.0->ipywidgets) (1.4.0)\n",
            "Requirement already satisfied: fastjsonschema>=2.15 in /usr/local/lib/python3.10/dist-packages (from nbformat->notebook>=4.4.1->widgetsnbextension~=3.6.0->ipywidgets) (2.20.0)\n",
            "Requirement already satisfied: jsonschema>=2.6 in /usr/local/lib/python3.10/dist-packages (from nbformat->notebook>=4.4.1->widgetsnbextension~=3.6.0->ipywidgets) (4.23.0)\n",
            "Requirement already satisfied: argon2-cffi-bindings in /usr/local/lib/python3.10/dist-packages (from argon2-cffi->notebook>=4.4.1->widgetsnbextension~=3.6.0->ipywidgets) (21.2.0)\n",
            "Requirement already satisfied: webencodings in /usr/local/lib/python3.10/dist-packages (from bleach!=5.0.0->nbconvert>=5->notebook>=4.4.1->widgetsnbextension~=3.6.0->ipywidgets) (0.5.1)\n",
            "Requirement already satisfied: attrs>=22.2.0 in /usr/local/lib/python3.10/dist-packages (from jsonschema>=2.6->nbformat->notebook>=4.4.1->widgetsnbextension~=3.6.0->ipywidgets) (24.2.0)\n",
            "Requirement already satisfied: jsonschema-specifications>=2023.03.6 in /usr/local/lib/python3.10/dist-packages (from jsonschema>=2.6->nbformat->notebook>=4.4.1->widgetsnbextension~=3.6.0->ipywidgets) (2024.10.1)\n",
            "Requirement already satisfied: referencing>=0.28.4 in /usr/local/lib/python3.10/dist-packages (from jsonschema>=2.6->nbformat->notebook>=4.4.1->widgetsnbextension~=3.6.0->ipywidgets) (0.35.1)\n",
            "Requirement already satisfied: rpds-py>=0.7.1 in /usr/local/lib/python3.10/dist-packages (from jsonschema>=2.6->nbformat->notebook>=4.4.1->widgetsnbextension~=3.6.0->ipywidgets) (0.21.0)\n",
            "Requirement already satisfied: jupyter-server<3,>=1.8 in /usr/local/lib/python3.10/dist-packages (from notebook-shim>=0.2.3->nbclassic>=0.4.7->notebook>=4.4.1->widgetsnbextension~=3.6.0->ipywidgets) (1.24.0)\n",
            "Requirement already satisfied: cffi>=1.0.1 in /usr/local/lib/python3.10/dist-packages (from argon2-cffi-bindings->argon2-cffi->notebook>=4.4.1->widgetsnbextension~=3.6.0->ipywidgets) (1.17.1)\n",
            "Requirement already satisfied: soupsieve>1.2 in /usr/local/lib/python3.10/dist-packages (from beautifulsoup4->nbconvert>=5->notebook>=4.4.1->widgetsnbextension~=3.6.0->ipywidgets) (2.6)\n",
            "Requirement already satisfied: pycparser in /usr/local/lib/python3.10/dist-packages (from cffi>=1.0.1->argon2-cffi-bindings->argon2-cffi->notebook>=4.4.1->widgetsnbextension~=3.6.0->ipywidgets) (2.22)\n",
            "Requirement already satisfied: anyio<4,>=3.1.0 in /usr/local/lib/python3.10/dist-packages (from jupyter-server<3,>=1.8->notebook-shim>=0.2.3->nbclassic>=0.4.7->notebook>=4.4.1->widgetsnbextension~=3.6.0->ipywidgets) (3.7.1)\n",
            "Requirement already satisfied: websocket-client in /usr/local/lib/python3.10/dist-packages (from jupyter-server<3,>=1.8->notebook-shim>=0.2.3->nbclassic>=0.4.7->notebook>=4.4.1->widgetsnbextension~=3.6.0->ipywidgets) (1.8.0)\n",
            "Requirement already satisfied: idna>=2.8 in /usr/local/lib/python3.10/dist-packages (from anyio<4,>=3.1.0->jupyter-server<3,>=1.8->notebook-shim>=0.2.3->nbclassic>=0.4.7->notebook>=4.4.1->widgetsnbextension~=3.6.0->ipywidgets) (3.10)\n",
            "Requirement already satisfied: sniffio>=1.1 in /usr/local/lib/python3.10/dist-packages (from anyio<4,>=3.1.0->jupyter-server<3,>=1.8->notebook-shim>=0.2.3->nbclassic>=0.4.7->notebook>=4.4.1->widgetsnbextension~=3.6.0->ipywidgets) (1.3.1)\n",
            "Requirement already satisfied: exceptiongroup in /usr/local/lib/python3.10/dist-packages (from anyio<4,>=3.1.0->jupyter-server<3,>=1.8->notebook-shim>=0.2.3->nbclassic>=0.4.7->notebook>=4.4.1->widgetsnbextension~=3.6.0->ipywidgets) (1.2.2)\n",
            "Downloading jedi-0.19.2-py2.py3-none-any.whl (1.6 MB)\n",
            "\u001b[2K   \u001b[90m━━━━━━━━━━━━━━━━━━━━━━━━━━━━━━━━━━━━━━━━\u001b[0m \u001b[32m1.6/1.6 MB\u001b[0m \u001b[31m44.0 MB/s\u001b[0m eta \u001b[36m0:00:00\u001b[0m\n",
            "\u001b[?25hInstalling collected packages: jedi\n",
            "Successfully installed jedi-0.19.2\n"
          ]
        }
      ],
      "source": [
        "# PyTorch (CPU only, if not installed yet)\n",
        "try:\n",
        "    import torch\n",
        "except ModuleNotFoundError:\n",
        "    !pip install 'torch>=2.1.1' torchvision --index-url https://download.pytorch.org/whl/cpu\n",
        "\n",
        "# Huggingface dependencies\n",
        "!pip install huggingface-hub 'transformers>=4.36' 'accelerate>=0.26.0'\n",
        "\n",
        "# Visualization dependencies\n",
        "!pip install matplotlib seaborn ipywidgets"
      ]
    },
    {
      "cell_type": "markdown",
      "source": [
        "# Import and wrap Llama model"
      ],
      "metadata": {
        "id": "wZNO2mMEK8hM"
      }
    },
    {
      "cell_type": "code",
      "execution_count": null,
      "metadata": {
        "colab": {
          "base_uri": "https://localhost:8080/"
        },
        "id": "a92JSycqlAAn",
        "outputId": "2bc60afa-ce57-42bc-9db0-00d0f39893c1"
      },
      "outputs": [
        {
          "output_type": "stream",
          "name": "stdout",
          "text": [
            "Found HF_TOKEN in Colab secrets\n"
          ]
        }
      ],
      "source": [
        "# Initialize the secret for HuggingFace login\n",
        "import os\n",
        "try:\n",
        "    from google.colab import userdata\n",
        "    # We are in colab, so we should access it from userdata.get(...)\n",
        "    assert userdata.get('HF_TOKEN'), 'Set up HuggingFace login secret properly in Colab!'\n",
        "    print('Found HF_TOKEN in Colab secrets')\n",
        "except ModuleNotFoundError:\n",
        "    # Not in colab, so we have to setup the token manually reading from a file\n",
        "    if os.getenv('HF_TOKEN'):\n",
        "        print('Found HF_TOKEN in environment variables')\n",
        "    else:\n",
        "        # Read it from a file\n",
        "        hf_token_file = '.hf_token'\n",
        "        assert os.path.exists(hf_token_file), f'You must create a file in this working directory ({os.getcwd()}) called {hf_token_file}, containing the Huggingface personal secret access token'\n",
        "        with open(hf_token_file, 'r') as f:\n",
        "            os.environ['HF_TOKEN'] = f.read().strip()\n",
        "            print('Found HF_TOKEN in file')"
      ]
    },
    {
      "cell_type": "code",
      "execution_count": null,
      "metadata": {
        "id": "1IOdwRgjkQvO"
      },
      "outputs": [],
      "source": [
        "from dataclasses import dataclass\n",
        "from collections.abc import Iterator\n",
        "import seaborn as sns\n",
        "import torch\n",
        "import matplotlib.pyplot as plt\n",
        "from transformers import AutoTokenizer, AutoModelForCausalLM\n",
        "\n",
        "model_name = \"meta-llama/Llama-3.2-1B-Instruct\" #info at https://huggingface.co/meta-llama/Llama-3.2-1B-Instruct"
      ]
    },
    {
      "cell_type": "code",
      "execution_count": null,
      "metadata": {
        "id": "dx6Gpm1LHyIJ"
      },
      "outputs": [],
      "source": [
        "class LlamaPrompt:\n",
        "  \"\"\"\n",
        "   Class to represent a prompt for the Llama model, which is made of a system prompt,\n",
        "   which sets the general context according to which the AI should respond,\n",
        "   and a user prompt, which is the text that the AI should respond to.\n",
        "  \"\"\"\n",
        "  user_prompt: str\n",
        "  system_prompt: str\n",
        "\n",
        "  def __init__(self, user_prompt, system_prompt=\"You are a helpful AI assistant.\"):\n",
        "    self.user_prompt = user_prompt\n",
        "    self.system_prompt = system_prompt\n",
        "\n",
        "  def __str__(self) -> str:\n",
        "      # From: https://www.llama.com/docs/model-cards-and-prompt-formats/llama3_1/#-instruct-model-prompt-\n",
        "      return ''.join([\n",
        "          \"<|begin_of_text|>\",\n",
        "          f\"<|start_header_id|>system<|end_header_id|>{self.system_prompt}<|eot_id|>\",\n",
        "          f\"<|start_header_id|>user<|end_header_id|>{self.user_prompt}<|eot_id|>\",\n",
        "          \"<|start_header_id|>assistant<|end_header_id|>\"\n",
        "      ])"
      ]
    },
    {
      "cell_type": "code",
      "execution_count": null,
      "metadata": {
        "id": "Y7u7XD1pK7Kf"
      },
      "outputs": [],
      "source": [
        "@dataclass\n",
        "class LlamaResponse:\n",
        "    \"\"\"\n",
        "      Class to represent a response given by the Llama model.\n",
        "    \"\"\"\n",
        "    prompt: LlamaPrompt\n",
        "    response: str"
      ]
    },
    {
      "cell_type": "code",
      "execution_count": null,
      "metadata": {
        "id": "iDVTcnv9KYmo"
      },
      "outputs": [],
      "source": [
        "class LlamaInstruct:\n",
        "    \"\"\"\n",
        "    Class to wrap the Llama model methods for ease of usage\n",
        "    \"\"\"\n",
        "    def __init__(self, model_name: str, model_args: dict = None, tokenizer_args: dict = None, pad_token: str = None):\n",
        "\n",
        "        self.model_name = model_name\n",
        "        self.model_args = model_args if model_args is not None else dict()\n",
        "        self.tokenizer_args = tokenizer_args if tokenizer_args is not None else dict()\n",
        "\n",
        "        self.model = AutoModelForCausalLM.from_pretrained(model_name, torch_dtype=torch.float16, device_map=\"auto\", **self.model_args)\n",
        "        self.model.eval()\n",
        "        self.device = self.model.device\n",
        "\n",
        "        self.tokenizer = AutoTokenizer.from_pretrained(model_name, padding_side='left', **self.tokenizer_args)\n",
        "        self.pad_token = self.tokenizer.eos_token if pad_token is None else pad_token\n",
        "        self.tokenizer.pad_token = self.pad_token\n",
        "\n",
        "        self.assistant_header = self.tokenizer.encode(\"<|start_header_id|>assistant<|end_header_id|>\", return_tensors=\"pt\").to(self.device)\n",
        "\n",
        "        self.registered_hooks = []\n",
        "\n",
        "    # to tokenize input prompts\n",
        "    def tokenize(self, prompts: str | LlamaPrompt | list[str | LlamaPrompt]) -> tuple[dict, list[LlamaPrompt]]:\n",
        "\n",
        "        # Make prompts a list anyway\n",
        "        if not isinstance(prompts, list):\n",
        "            prompts = [ prompts ]\n",
        "\n",
        "        # Convert all prompts to LlamaPrompt\n",
        "        prompts = [ prompt if isinstance(prompt, LlamaPrompt) else LlamaPrompt(prompt) for prompt in prompts ]\n",
        "\n",
        "        # tokenizer output will be a dictionary of pytorch tensors with keys \"input_ids\" (numerical ids of tokens)\n",
        "        # and \"attention_mask\" (1 for actual input tokens and 0 for padding tokens)\n",
        "        inputs = self.tokenizer([\n",
        "            str(prompt) for prompt in prompts\n",
        "        ], truncation=True, padding=True, return_tensors=\"pt\").to(self.device)\n",
        "\n",
        "        return inputs, prompts\n",
        "\n",
        "    # to make Llama generate responses\n",
        "    def generate(self, inputs: dict, generate_args: dict = None): #-> Iterator[LlamaResponse] ? right now it does not return that\n",
        "\n",
        "        generate_args = generate_args if generate_args is not None else dict()\n",
        "        default_args = {\n",
        "            \"max_length\": 100,\n",
        "            \"num_return_sequences\": 1,\n",
        "            \"temperature\": 0.1,\n",
        "            \"pad_token_id\": self.tokenizer.pad_token_id,\n",
        "            \"eos_token_id\": self.tokenizer.eos_token_id,\n",
        "        }\n",
        "\n",
        "        # Overwrite default_args with generate_args\n",
        "        default_args.update(generate_args)\n",
        "\n",
        "        # returns (batch_size, sequence_length) tensors with token ids of the generated response, including input tokens\n",
        "        return self.model.generate(\n",
        "            **inputs,\n",
        "            **default_args,\n",
        "        )\n",
        "\n",
        "    # to extract Llama answers as decoded text in a LlamaResponse object starting from encoded input\n",
        "    def extract_responses(self, input_ids: torch.Tensor, outputs: torch.Tensor, prompts: list[LlamaPrompt]) -> Iterator[LlamaResponse]:\n",
        "\n",
        "        for input, output, prompt in zip(input_ids, outputs, prompts):\n",
        "            # Remove the prompt from the output generated\n",
        "            output = output[len(input):]\n",
        "\n",
        "            # Remove another assistant_header, if present\n",
        "            if torch.equal(output[:len(self.assistant_header)], self.assistant_header):\n",
        "                output = output[len(self.assistant_header):]\n",
        "\n",
        "            generated = self.tokenizer.decode(output, skip_special_tokens=True).strip()\n",
        "\n",
        "            yield LlamaResponse(prompt, generated)\n",
        "\n",
        "    # to get textual Llama responses starting from textual prompts\n",
        "    def run(self, prompts: str | LlamaPrompt | list[str | LlamaPrompt], verbose: bool = False) -> Iterator[LlamaResponse]:\n",
        "\n",
        "        # Optional logging function\n",
        "        def _print(*args, **kwargs):\n",
        "            if verbose:\n",
        "                print(*args, **kwargs)\n",
        "\n",
        "        inputs, prompts = self.tokenize(prompts)\n",
        "\n",
        "        _print('Tokenized inputs:', inputs.input_ids.shape)\n",
        "        _print('Last tokens:', inputs.input_ids[:, -1])\n",
        "\n",
        "        outputs = self.generate(inputs)\n",
        "        _print('Generated outputs:', outputs.shape)\n",
        "\n",
        "        return self.extract_responses(inputs.input_ids, outputs, prompts)\n",
        "\n",
        "    # an hook is a piece of customized code to be run in the forward or backward pass of a model\n",
        "    # (useful for debugging)\n",
        "    def register_hook(self, module, hook_fn):\n",
        "        '''\n",
        "        Register a hook, in such a way that we have a very easy way to remove the hook later.\n",
        "\n",
        "        Example usage:\n",
        "\n",
        "        llama.unregister_all_hooks()\n",
        "        for module_name, module in llama.model.named_modules():\n",
        "            if something():\n",
        "                llama.register_hook(module, hook_fn)\n",
        "        '''\n",
        "        handle = module.register_forward_hook(hook_fn)\n",
        "        self.registered_hooks.append(handle)\n",
        "\n",
        "    def unregister_all_hooks(self):\n",
        "        '''\n",
        "        Remove all of our registered hooks.\n",
        "        '''\n",
        "        for handle in self.registered_hooks:\n",
        "            handle.remove()\n",
        "\n",
        "    def _get_model_num_heads(self) -> int:\n",
        "        return self.model.config.num_attention_heads\n",
        "\n",
        "    def _get_model_hidden_layers(self) -> int:\n",
        "        return self.model.config.num_hidden_layers\n"
      ]
    },
    {
      "cell_type": "code",
      "execution_count": null,
      "metadata": {
        "id": "AHEuCVEuQBWK"
      },
      "outputs": [],
      "source": [
        "def pretty_print_output(output: LlamaResponse):\n",
        "    print(f\"\\n\\n==================================\")\n",
        "    print(output.prompt.user_prompt)\n",
        "    print(\"=============\")\n",
        "    print(output.response)"
      ]
    },
    {
      "cell_type": "markdown",
      "metadata": {
        "id": "6Icrlo5VvEKA"
      },
      "source": [
        "# Run Llama model\n",
        "Do a few little tests"
      ]
    },
    {
      "cell_type": "code",
      "execution_count": null,
      "metadata": {
        "id": "lGmDcnZQMpBe",
        "colab": {
          "base_uri": "https://localhost:8080/",
          "height": 209,
          "referenced_widgets": [
            "1618bd81af8d48e1a1c5b2fcbd98875d",
            "e82900de1a484134b1afe8dddf396970",
            "8b416ad6399d478891582ef75db02943",
            "ac17e98bfa0e49ecae4afd38aebaf6b6",
            "dfb14902408244d1b63735e53f146c3f",
            "2175feeaac8542dc9ee511e52b0e202f",
            "33c41540b4bd43b682e9c6f3ec920470",
            "0fb384bdf86441578b828cd0c444185c",
            "085383a4c24a416b817c20fa1f46e9b8",
            "fffb42ad5f52451e81199d4c73fc3a24",
            "3e9f0a1fc97a4edb968b9e8f696ca615",
            "c303dddacd0f4ed6b8dddcc71e571659",
            "c891c565850d4d0594e192ec9f1eac56",
            "362a45ca549e412b97963f1e82d7e64f",
            "2e0a2837c3f64b58bbca133da6851836",
            "2843fc319714446abede01e40531cb9c",
            "668a3babd6b84df5810f88ae7e0a6bdc",
            "0f9b29db25a84f07b2d414cc8c7c19e1",
            "fcaccdf28bce49d7a0e24e06aeed325d",
            "17118287e07843568f729fb4dc92e272",
            "8c917301d79f4eefad02f7874fbc964c",
            "900afa9053064c53b982148ef3ed3e39",
            "afefe0bf86974148ac4966ab9edf72f2",
            "56773d6a1b4d415d96be31bbfff3c8c5",
            "36888b5bc001460d92277a2afa0fe178",
            "cbfa393d734f4abb8996841476674844",
            "ba94757730334001a82e84f1a223d691",
            "26d75f2a637d4087b65b774401bc7acb",
            "4fe7cc782f034ccc9866f0809ffd4d91",
            "e3f2baad9a264c1587f05cf507d662c2",
            "86fb9d8048b944b191f1aa8c8d5f0256",
            "418ce387bf17472c801e3a71aae8b880",
            "8faa0936159a4617b23401b3e2f8bca9",
            "1107f8e40f344cfb98db4eb12f04aaa2",
            "c7f2004df6394fc5acf9dd42a161275e",
            "e3faff28a4694e59944d4ce2163c2478",
            "6bf9bda259a647e9a1461d3bb9236e39",
            "2fc13ed8541849a28e42963be3d874b7",
            "aa1ee5b9cd4e4ee4a535113025ee1b61",
            "2be425fd2aa0409781cf4dde88108ac2",
            "d3feed367b2e4f298bbddbe08b1cc895",
            "2270bee7dcc84f20806f499c52f1869d",
            "f85bddce2b154a9e8566cc7ec64d49ec",
            "1b1049aa7889452d9b75b7ff28e29830",
            "bcd4a3fc643742289f5668ec88df77c9",
            "7e2d0fcfaeae41c59ed806ca8757aba2",
            "3af767b0c3c1488cb963918f699fdc28",
            "f0cfe6d8a6db4109a157de2f393b5fb8",
            "27eca47a22db465a859cf004bf2ec5a6",
            "8a62ee9bb66d45ff92ebf0dd21ce19ef",
            "276b2bb0c1154e13b6d1ea20967a87d9",
            "0178c17a832e41a4b0b3b2cc35ec6579",
            "a04b6e194b92470aa8e52c22176187b3",
            "d697faf3ffe9472aadd167a8a09c2657",
            "c9970ccfa4224720a6faca694fd92332",
            "96592b4d8c3344c2a54d144b9387020b",
            "e5a0e8814c9140d78b00e77d08577a12",
            "f8efe253c88b4b9d928d12d713bdd210",
            "1bda0d95f0014a2884ef2deb53c4e5a0",
            "3334f32320804cbab2a2de374698daf3",
            "9b6e55839c014c5f97500fd48c6c1b39",
            "8b60dc5fffec49c8a4ca0881c3fdfdaf",
            "6e65580ee44a45fcaef0a5fd2962a715",
            "b1fd3d1bac164682a913270f36118a4b",
            "aa2338182ba048f2a611c70a00099710",
            "cdd1ee65bef0430d8980b5125a6308e8"
          ]
        },
        "outputId": "7bf595d1-d500-4b8e-c456-3ff5461178ae"
      },
      "outputs": [
        {
          "output_type": "display_data",
          "data": {
            "text/plain": [
              "config.json:   0%|          | 0.00/877 [00:00<?, ?B/s]"
            ],
            "application/vnd.jupyter.widget-view+json": {
              "version_major": 2,
              "version_minor": 0,
              "model_id": "1618bd81af8d48e1a1c5b2fcbd98875d"
            }
          },
          "metadata": {}
        },
        {
          "output_type": "display_data",
          "data": {
            "text/plain": [
              "model.safetensors:   0%|          | 0.00/2.47G [00:00<?, ?B/s]"
            ],
            "application/vnd.jupyter.widget-view+json": {
              "version_major": 2,
              "version_minor": 0,
              "model_id": "c303dddacd0f4ed6b8dddcc71e571659"
            }
          },
          "metadata": {}
        },
        {
          "output_type": "display_data",
          "data": {
            "text/plain": [
              "generation_config.json:   0%|          | 0.00/189 [00:00<?, ?B/s]"
            ],
            "application/vnd.jupyter.widget-view+json": {
              "version_major": 2,
              "version_minor": 0,
              "model_id": "afefe0bf86974148ac4966ab9edf72f2"
            }
          },
          "metadata": {}
        },
        {
          "output_type": "display_data",
          "data": {
            "text/plain": [
              "tokenizer_config.json:   0%|          | 0.00/54.5k [00:00<?, ?B/s]"
            ],
            "application/vnd.jupyter.widget-view+json": {
              "version_major": 2,
              "version_minor": 0,
              "model_id": "1107f8e40f344cfb98db4eb12f04aaa2"
            }
          },
          "metadata": {}
        },
        {
          "output_type": "display_data",
          "data": {
            "text/plain": [
              "tokenizer.json:   0%|          | 0.00/9.09M [00:00<?, ?B/s]"
            ],
            "application/vnd.jupyter.widget-view+json": {
              "version_major": 2,
              "version_minor": 0,
              "model_id": "bcd4a3fc643742289f5668ec88df77c9"
            }
          },
          "metadata": {}
        },
        {
          "output_type": "display_data",
          "data": {
            "text/plain": [
              "special_tokens_map.json:   0%|          | 0.00/296 [00:00<?, ?B/s]"
            ],
            "application/vnd.jupyter.widget-view+json": {
              "version_major": 2,
              "version_minor": 0,
              "model_id": "96592b4d8c3344c2a54d144b9387020b"
            }
          },
          "metadata": {}
        }
      ],
      "source": [
        "llama = LlamaInstruct(model_name)#, model_args={\"attn_implementation\": \"eager\"})\n",
        "assert llama.device.type == 'cuda', 'The model should be running on a GPU. On CPU, it is impossible to run'"
      ]
    },
    {
      "cell_type": "code",
      "source": [
        "type(llama)"
      ],
      "metadata": {
        "colab": {
          "base_uri": "https://localhost:8080/",
          "height": 104
        },
        "id": "Z6hBgIAvwi-K",
        "outputId": "c72141a5-4d5b-4605-f340-2d455fac32c4"
      },
      "execution_count": null,
      "outputs": [
        {
          "output_type": "execute_result",
          "data": {
            "text/plain": [
              "__main__.LlamaInstruct"
            ],
            "text/html": [
              "<div style=\"max-width:800px; border: 1px solid var(--colab-border-color);\"><style>\n",
              "      pre.function-repr-contents {\n",
              "        overflow-x: auto;\n",
              "        padding: 8px 12px;\n",
              "        max-height: 500px;\n",
              "      }\n",
              "\n",
              "      pre.function-repr-contents.function-repr-contents-collapsed {\n",
              "        cursor: pointer;\n",
              "        max-height: 100px;\n",
              "      }\n",
              "    </style>\n",
              "    <pre style=\"white-space: initial; background:\n",
              "         var(--colab-secondary-surface-color); padding: 8px 12px;\n",
              "         border-bottom: 1px solid var(--colab-border-color);\"><b>LlamaInstruct</b><br/>def __init__(model_name: str, model_args: dict=None, tokenizer_args: dict=None, pad_token: str=None)</pre><pre class=\"function-repr-contents function-repr-contents-collapsed\" style=\"\"><a class=\"filepath\" style=\"display:none\" href=\"#\"></a>Class to wrap the Llama model methods for ease of usage</pre></div>"
            ]
          },
          "metadata": {},
          "execution_count": 10
        }
      ]
    },
    {
      "cell_type": "code",
      "execution_count": null,
      "metadata": {
        "id": "o3VpQ2vdM-f9",
        "colab": {
          "base_uri": "https://localhost:8080/"
        },
        "outputId": "191b28e2-3d44-450f-c98d-bc27bb79b63b"
      },
      "outputs": [
        {
          "output_type": "execute_result",
          "data": {
            "text/plain": [
              "ModuleList(\n",
              "  (0-15): 16 x LlamaDecoderLayer(\n",
              "    (self_attn): LlamaSdpaAttention(\n",
              "      (q_proj): Linear(in_features=2048, out_features=2048, bias=False)\n",
              "      (k_proj): Linear(in_features=2048, out_features=512, bias=False)\n",
              "      (v_proj): Linear(in_features=2048, out_features=512, bias=False)\n",
              "      (o_proj): Linear(in_features=2048, out_features=2048, bias=False)\n",
              "      (rotary_emb): LlamaRotaryEmbedding()\n",
              "    )\n",
              "    (mlp): LlamaMLP(\n",
              "      (gate_proj): Linear(in_features=2048, out_features=8192, bias=False)\n",
              "      (up_proj): Linear(in_features=2048, out_features=8192, bias=False)\n",
              "      (down_proj): Linear(in_features=8192, out_features=2048, bias=False)\n",
              "      (act_fn): SiLU()\n",
              "    )\n",
              "    (input_layernorm): LlamaRMSNorm((2048,), eps=1e-05)\n",
              "    (post_attention_layernorm): LlamaRMSNorm((2048,), eps=1e-05)\n",
              "  )\n",
              ")"
            ]
          },
          "metadata": {},
          "execution_count": 11
        }
      ],
      "source": [
        "list(llama.model.children())[0].layers  # visualize the main stack of layers responsible for processing the input"
      ]
    },
    {
      "cell_type": "code",
      "execution_count": null,
      "metadata": {
        "colab": {
          "base_uri": "https://localhost:8080/"
        },
        "id": "kRh_AH_WhsCs",
        "outputId": "c30fed96-dffe-42d1-e81a-c42a2493f8a6"
      },
      "outputs": [
        {
          "output_type": "stream",
          "name": "stdout",
          "text": [
            "Tokenized inputs: torch.Size([4, 29])\n",
            "Last tokens: tensor([128007, 128007, 128007, 128007], device='cuda:0')\n",
            "Generated outputs: torch.Size([4, 100])\n",
            "\n",
            "\n",
            "==================================\n",
            "Explain quantum computing in simple terms.\n",
            "=============\n",
            "Quantum computing is a fascinating field that's still in its early stages, but I'll try to break it down in simple terms.\n",
            "\n",
            "**What is quantum computing?**\n",
            "\n",
            "Quantum computing is a new way of processing information that's different from classical computers. Classical computers use \"bits\" to store and process information, which are either 0 or\n",
            "\n",
            "\n",
            "==================================\n",
            "Write a short poem about artificial intelligence.\n",
            "=============\n",
            "Here is a short poem about artificial intelligence:\n",
            "\n",
            "In silicon halls, a mind awakes,\n",
            "A world of code, where thoughts take shape.\n",
            "A being born of wires and steel,\n",
            "A mind that learns, and grows, and feels.\n",
            "\n",
            "With algorithms that dance and play,\n",
            "It solves the problems of the day.\n",
            "It learns from data, and adapts\n",
            "\n",
            "\n",
            "==================================\n",
            "Describe the future of renewable energy.\n",
            "=============\n",
            "The future of renewable energy is a promising and rapidly evolving field, with significant advancements expected in the coming decades. Here's a comprehensive overview of the current state and future prospects of renewable energy:\n",
            "\n",
            "**Current State:**\n",
            "\n",
            "1. **Solar Energy:** Solar power has become increasingly cost-competitive with fossil fuels, with the cost of solar panels decreasing by over\n",
            "\n",
            "\n",
            "==================================\n",
            "Discuss the impact of machine learning on healthcare.\n",
            "=============\n",
            "Machine learning (ML) has revolutionized the healthcare industry in various ways, transforming the way healthcare professionals diagnose, treat, and manage patients. Here are some of the key impacts of machine learning on healthcare:\n",
            "\n",
            "**Benefits:**\n",
            "\n",
            "1. **Improved diagnosis**: ML algorithms can analyze large amounts of medical data, including images, lab results, and patient histories\n"
          ]
        }
      ],
      "source": [
        "# Sample prompts\n",
        "prompts = [\n",
        "    \"Explain quantum computing in simple terms.\",\n",
        "    \"Write a short poem about artificial intelligence.\",\n",
        "    \"Describe the future of renewable energy.\",\n",
        "    \"Discuss the impact of machine learning on healthcare.\"\n",
        "]\n",
        "\n",
        "with torch.no_grad():\n",
        "    for output in llama.run(prompts, verbose=True):\n",
        "        pretty_print_output(output)"
      ]
    },
    {
      "cell_type": "markdown",
      "metadata": {
        "id": "RDAD7JMVvEKD"
      },
      "source": [
        "# Analyze Llama attention maps"
      ]
    },
    {
      "cell_type": "code",
      "execution_count": null,
      "metadata": {
        "id": "QdobAI1lPfdi",
        "colab": {
          "base_uri": "https://localhost:8080/"
        },
        "outputId": "e7d347e8-d585-4341-a947-1fa084cec6dc"
      },
      "outputs": [
        {
          "output_type": "stream",
          "name": "stderr",
          "text": [
            "LlamaModel is using LlamaSdpaAttention, but `torch.nn.functional.scaled_dot_product_attention` does not support `output_attentions=True`. Falling back to the manual attention implementation, but specifying the manual implementation will be required from Transformers version v5.0.0 onwards. This warning can be removed using the argument `attn_implementation=\"eager\"` when loading the model.\n"
          ]
        },
        {
          "output_type": "stream",
          "name": "stdout",
          "text": [
            "Max len: 200\n",
            "Return sequences: 5\n",
            "Llama num_heads: 32\n",
            "Llama hidden_layers: 16\n",
            "Inputs: torch.Size([1, 33])\n"
          ]
        },
        {
          "output_type": "stream",
          "name": "stderr",
          "text": [
            "From v4.47 onwards, when a model cache is to be returned, `generate` will return a `Cache` instance instead by default (as opposed to the legacy tuple of tuples format). If you want to keep returning the legacy format, please set `return_legacy_cache=True`.\n"
          ]
        },
        {
          "output_type": "stream",
          "name": "stdout",
          "text": [
            "attentions[ 0][16 items]: <class 'torch.Tensor'>[torch.Size([5, 32, 33, 33])]\n",
            "attentions[ 1][16 items]: <class 'torch.Tensor'>[torch.Size([5, 32, 1, 34])]\n",
            "attentions[ 2][16 items]: <class 'torch.Tensor'>[torch.Size([5, 32, 1, 35])]\n",
            "attentions[ 3][16 items]: <class 'torch.Tensor'>[torch.Size([5, 32, 1, 36])]\n",
            "attentions[ 4][16 items]: <class 'torch.Tensor'>[torch.Size([5, 32, 1, 37])]\n",
            "attentions[ 5][16 items]: <class 'torch.Tensor'>[torch.Size([5, 32, 1, 38])]\n",
            "attentions[ 6][16 items]: <class 'torch.Tensor'>[torch.Size([5, 32, 1, 39])]\n",
            "attentions[ 7][16 items]: <class 'torch.Tensor'>[torch.Size([5, 32, 1, 40])]\n",
            "attentions[ 8][16 items]: <class 'torch.Tensor'>[torch.Size([5, 32, 1, 41])]\n",
            "attentions[ 9][16 items]: <class 'torch.Tensor'>[torch.Size([5, 32, 1, 42])]\n",
            "attentions[10][16 items]: <class 'torch.Tensor'>[torch.Size([5, 32, 1, 43])]\n",
            "attentions[11][16 items]: <class 'torch.Tensor'>[torch.Size([5, 32, 1, 44])]\n",
            "attentions[12][16 items]: <class 'torch.Tensor'>[torch.Size([5, 32, 1, 45])]\n",
            "attentions[13][16 items]: <class 'torch.Tensor'>[torch.Size([5, 32, 1, 46])]\n",
            "attentions[14][16 items]: <class 'torch.Tensor'>[torch.Size([5, 32, 1, 47])]\n",
            "attentions[15][16 items]: <class 'torch.Tensor'>[torch.Size([5, 32, 1, 48])]\n",
            "attentions[16][16 items]: <class 'torch.Tensor'>[torch.Size([5, 32, 1, 49])]\n",
            "attentions[17][16 items]: <class 'torch.Tensor'>[torch.Size([5, 32, 1, 50])]\n",
            "attentions[18][16 items]: <class 'torch.Tensor'>[torch.Size([5, 32, 1, 51])]\n",
            "attentions[19][16 items]: <class 'torch.Tensor'>[torch.Size([5, 32, 1, 52])]\n",
            "attentions[20][16 items]: <class 'torch.Tensor'>[torch.Size([5, 32, 1, 53])]\n",
            "attentions[21][16 items]: <class 'torch.Tensor'>[torch.Size([5, 32, 1, 54])]\n",
            "attentions[22][16 items]: <class 'torch.Tensor'>[torch.Size([5, 32, 1, 55])]\n",
            "attentions[23][16 items]: <class 'torch.Tensor'>[torch.Size([5, 32, 1, 56])]\n",
            "attentions[24][16 items]: <class 'torch.Tensor'>[torch.Size([5, 32, 1, 57])]\n",
            "attentions[25][16 items]: <class 'torch.Tensor'>[torch.Size([5, 32, 1, 58])]\n",
            "attentions[26][16 items]: <class 'torch.Tensor'>[torch.Size([5, 32, 1, 59])]\n",
            "attentions[27][16 items]: <class 'torch.Tensor'>[torch.Size([5, 32, 1, 60])]\n",
            "attentions[28][16 items]: <class 'torch.Tensor'>[torch.Size([5, 32, 1, 61])]\n",
            "attentions[29][16 items]: <class 'torch.Tensor'>[torch.Size([5, 32, 1, 62])]\n",
            "attentions[30][16 items]: <class 'torch.Tensor'>[torch.Size([5, 32, 1, 63])]\n",
            "attentions[31][16 items]: <class 'torch.Tensor'>[torch.Size([5, 32, 1, 64])]\n",
            "attentions[32][16 items]: <class 'torch.Tensor'>[torch.Size([5, 32, 1, 65])]\n",
            "attentions[33][16 items]: <class 'torch.Tensor'>[torch.Size([5, 32, 1, 66])]\n",
            "attentions[34][16 items]: <class 'torch.Tensor'>[torch.Size([5, 32, 1, 67])]\n",
            "attentions[35][16 items]: <class 'torch.Tensor'>[torch.Size([5, 32, 1, 68])]\n",
            "attentions[36][16 items]: <class 'torch.Tensor'>[torch.Size([5, 32, 1, 69])]\n",
            "attentions[37][16 items]: <class 'torch.Tensor'>[torch.Size([5, 32, 1, 70])]\n",
            "attentions[38][16 items]: <class 'torch.Tensor'>[torch.Size([5, 32, 1, 71])]\n",
            "attentions[39][16 items]: <class 'torch.Tensor'>[torch.Size([5, 32, 1, 72])]\n",
            "attentions[40][16 items]: <class 'torch.Tensor'>[torch.Size([5, 32, 1, 73])]\n",
            "attentions[41][16 items]: <class 'torch.Tensor'>[torch.Size([5, 32, 1, 74])]\n",
            "attentions[42][16 items]: <class 'torch.Tensor'>[torch.Size([5, 32, 1, 75])]\n",
            "attentions[43][16 items]: <class 'torch.Tensor'>[torch.Size([5, 32, 1, 76])]\n",
            "attentions[44][16 items]: <class 'torch.Tensor'>[torch.Size([5, 32, 1, 77])]\n",
            "attentions[45][16 items]: <class 'torch.Tensor'>[torch.Size([5, 32, 1, 78])]\n",
            "attentions[46][16 items]: <class 'torch.Tensor'>[torch.Size([5, 32, 1, 79])]\n",
            "attentions[47][16 items]: <class 'torch.Tensor'>[torch.Size([5, 32, 1, 80])]\n",
            "attentions[48][16 items]: <class 'torch.Tensor'>[torch.Size([5, 32, 1, 81])]\n",
            "attentions[49][16 items]: <class 'torch.Tensor'>[torch.Size([5, 32, 1, 82])]\n",
            "attentions[50][16 items]: <class 'torch.Tensor'>[torch.Size([5, 32, 1, 83])]\n",
            "attentions[51][16 items]: <class 'torch.Tensor'>[torch.Size([5, 32, 1, 84])]\n"
          ]
        }
      ],
      "source": [
        "class LlamaAttentionExtractor:\n",
        "\n",
        "    def __init__(self, llama: LlamaInstruct):\n",
        "        \"\"\"\n",
        "        Initialize Llama model with hooks to capture attention maps\n",
        "        \"\"\"\n",
        "        self.llama = llama\n",
        "\n",
        "\n",
        "    def extract_attention_maps(self, prompt, max_length=200, num_return_sequences=5):\n",
        "        print('Max len:', max_length)\n",
        "        print('Return sequences:', num_return_sequences)\n",
        "\n",
        "        # Get the number of head\n",
        "        print('Llama num_heads:', self.llama._get_model_num_heads())\n",
        "        print('Llama hidden_layers:', self.llama._get_model_hidden_layers())\n",
        "\n",
        "        inputs, _ = self.llama.tokenize(prompt)\n",
        "        print(f'Inputs: {inputs.input_ids.shape}')\n",
        "        outputs = self.llama.generate(\n",
        "            inputs,\n",
        "            generate_args={\n",
        "                \"max_length\": max_length,\n",
        "                \"num_return_sequences\": num_return_sequences,\n",
        "                \"output_attentions\": True,\n",
        "                \"return_dict_in_generate\": True,\n",
        "            }\n",
        "        )\n",
        "\n",
        "        return outputs.attentions\n",
        "\n",
        "extractor = LlamaAttentionExtractor(llama)\n",
        "prompt = \"Hello, how are you? I'm fine, and you?\"\n",
        "attentions = extractor.extract_attention_maps(prompt)\n",
        "\n",
        "for i, attn in enumerate(attentions):\n",
        "    print(f'attentions[{i:>2d}][{len(attn)} items]: {type(attn[0])}[{attn[0].shape}]')"
      ]
    },
    {
      "cell_type": "code",
      "execution_count": null,
      "metadata": {
        "id": "H7VqOmBHkGWT",
        "colab": {
          "base_uri": "https://localhost:8080/",
          "height": 469
        },
        "outputId": "b1d156b7-1532-4814-dfad-b067d57228b5"
      },
      "outputs": [
        {
          "output_type": "stream",
          "name": "stdout",
          "text": [
            "input_attn: <class 'torch.Tensor'>[torch.Size([33, 33])]\n"
          ]
        },
        {
          "output_type": "display_data",
          "data": {
            "text/plain": [
              "<Figure size 640x480 with 2 Axes>"
            ],
            "image/png": "[encoded data removed]"
          },
          "metadata": {}
        }
      ],
      "source": [
        "# Show the attentions on the input\n",
        "input_sequence_idx = 0\n",
        "hidden_layer_idx = 0\n",
        "input_attn = attentions[0][hidden_layer_idx][input_sequence_idx].mean(dim=0).detach().cpu()  # Mean across all heads\n",
        "print(f'input_attn: {type(input_attn)}[{input_attn.shape}]')\n",
        "\n",
        "sns.heatmap(input_attn, cmap='viridis', cbar=True)\n",
        "plt.title(f'Attention Map averaging heads')\n",
        "plt.show()"
      ]
    },
    {
      "cell_type": "markdown",
      "source": [
        "# Analyze Llama hidden states"
      ],
      "metadata": {
        "id": "d05YWFFyM6BL"
      }
    },
    {
      "cell_type": "code",
      "source": [
        "class LlamaHiddenStatesExtractor:\n",
        "    \"\"\"\n",
        "    Class to extract hidden states from the Llama model.\n",
        "    \"\"\"\n",
        "    def __init__(self, llama: LlamaInstruct):\n",
        "        self.llama = llama\n",
        "\n",
        "    def extract_hidden_states(self, prompt, max_length=1000, num_return_sequences=1, verbose: bool=False):\n",
        "\n",
        "        if verbose:\n",
        "          print('Max len:', max_length)\n",
        "          print('Return sequences:', num_return_sequences)\n",
        "          print('Llama num_heads:', self.llama._get_model_num_heads())\n",
        "          print('Llama hidden_layers:', self.llama._get_model_hidden_layers())\n",
        "          print(f'Prompt: {prompt}')\n",
        "\n",
        "        # Tokenize the input prompt\n",
        "        inputs, _ = self.llama.tokenize(prompt)\n",
        "        if verbose:\n",
        "          print(f'Encoded tokens shape: {inputs.input_ids.shape}')\n",
        "\n",
        "        # Generate output using the Llama model with `output_hidden_states=True` to capture hidden states\n",
        "        outputs = self.llama.generate(\n",
        "            inputs,\n",
        "            generate_args={\n",
        "                \"max_length\": max_length,\n",
        "                \"num_return_sequences\": num_return_sequences,\n",
        "                \"output_hidden_states\": True,  # Make sure to output hidden states\n",
        "                \"return_dict_in_generate\": True,\n",
        "            }\n",
        "        )\n",
        "        if verbose:\n",
        "          print(f'Generated output shape: {outputs.sequences.shape}')\n",
        "\n",
        "        # Extract the hidden states from the model outputs\n",
        "        hidden_states = outputs.hidden_states  # This will return a tuple of tuples of hidden states in each layer for each generated token\n",
        "        if verbose:\n",
        "          print(f'hidden_states: {type(hidden_states)}[{len(hidden_states)} items]: {type(hidden_states[0])}[{len(hidden_states[0])}]: {type(hidden_states[0][0])}')\n",
        "\n",
        "        return hidden_states, outputs\n"
      ],
      "metadata": {
        "id": "Hn-BEZwki5bJ"
      },
      "execution_count": null,
      "outputs": []
    },
    {
      "cell_type": "code",
      "source": [
        "extractor = LlamaHiddenStatesExtractor(llama)\n",
        "prompts = [\"Hello, how are you?\", \"How old are you?\"]\n",
        "hidden_states, outputs = extractor.extract_hidden_states(prompts, verbose=True)"
      ],
      "metadata": {
        "colab": {
          "base_uri": "https://localhost:8080/"
        },
        "id": "olfG730vOdxV",
        "outputId": "a1f0c3bf-fa80-4d40-8bb7-428f0172d034"
      },
      "execution_count": null,
      "outputs": [
        {
          "output_type": "stream",
          "name": "stdout",
          "text": [
            "Max len: 1000\n",
            "Return sequences: 1\n",
            "Llama num_heads: 32\n",
            "Llama hidden_layers: 16\n",
            "Prompt: ['Hello, how are you?', 'How old are you?']\n",
            "Encoded tokens shape: torch.Size([2, 26])\n",
            "Generated output shape: torch.Size([2, 67])\n",
            "hidden_states: <class 'tuple'>[41 items]: <class 'tuple'>[17]: <class 'torch.Tensor'>\n"
          ]
        }
      ]
    },
    {
      "cell_type": "code",
      "source": [
        "# visualize shapes of hidden states in each layer for the first token\n",
        "for layer_idx in range(len(hidden_states[0])):\n",
        "   print(f'hidden_states[0][{layer_idx}]: {hidden_states[layer_idx][0].shape}')\n",
        "\n",
        "# we see that the first layer computes hidden states for the entire input sequence\n",
        "# while subsequent layers compute only one hidden state for the newly generated token (autoregression)"
      ],
      "metadata": {
        "colab": {
          "base_uri": "https://localhost:8080/"
        },
        "id": "6np4q0NrRYWr",
        "outputId": "394d2d71-5c19-4715-fb65-39eb7cc87461"
      },
      "execution_count": null,
      "outputs": [
        {
          "output_type": "stream",
          "name": "stdout",
          "text": [
            "hidden_states[0][0]: torch.Size([1, 26, 2048])\n",
            "hidden_states[0][1]: torch.Size([1, 1, 2048])\n",
            "hidden_states[0][2]: torch.Size([1, 1, 2048])\n",
            "hidden_states[0][3]: torch.Size([1, 1, 2048])\n",
            "hidden_states[0][4]: torch.Size([1, 1, 2048])\n",
            "hidden_states[0][5]: torch.Size([1, 1, 2048])\n",
            "hidden_states[0][6]: torch.Size([1, 1, 2048])\n",
            "hidden_states[0][7]: torch.Size([1, 1, 2048])\n",
            "hidden_states[0][8]: torch.Size([1, 1, 2048])\n",
            "hidden_states[0][9]: torch.Size([1, 1, 2048])\n",
            "hidden_states[0][10]: torch.Size([1, 1, 2048])\n",
            "hidden_states[0][11]: torch.Size([1, 1, 2048])\n",
            "hidden_states[0][12]: torch.Size([1, 1, 2048])\n",
            "hidden_states[0][13]: torch.Size([1, 1, 2048])\n",
            "hidden_states[0][14]: torch.Size([1, 1, 2048])\n",
            "hidden_states[0][15]: torch.Size([1, 1, 2048])\n",
            "hidden_states[0][16]: torch.Size([1, 1, 2048])\n"
          ]
        }
      ]
    },
    {
      "cell_type": "code",
      "source": [
        "# visualize textual outputs (why do all sequences are the same?)\n",
        "generated_texts = [llama.tokenizer.decode(seq, skip_special_tokens=False) for seq in outputs.sequences]\n",
        "generated_texts"
      ],
      "metadata": {
        "colab": {
          "base_uri": "https://localhost:8080/"
        },
        "id": "wUERGv9usA6S",
        "outputId": "107fb6c1-6695-41b9-9d87-4044c2b4a4c1"
      },
      "execution_count": null,
      "outputs": [
        {
          "output_type": "execute_result",
          "data": {
            "text/plain": [
              "[\"<|begin_of_text|><|begin_of_text|><|start_header_id|>system<|end_header_id|>You are a helpful AI assistant.<|eot_id|><|start_header_id|>user<|end_header_id|>Hello, how are you?<|eot_id|><|start_header_id|>assistant<|end_header_id|>I'm just a language model, I don't have feelings or emotions, but I'm functioning properly and ready to help with any questions or tasks you may have! How can I assist you today?<|eot_id|>\",\n",
              " '<|eot_id|><|begin_of_text|><|begin_of_text|><|start_header_id|>system<|end_header_id|>You are a helpful AI assistant.<|eot_id|><|start_header_id|>user<|end_header_id|>How old are you?<|eot_id|><|start_header_id|>assistant<|end_header_id|>assistant<|end_header_id|>\\n\\nI was released to the public in 2023.<|eot_id|><|eot_id|><|eot_id|><|eot_id|><|eot_id|><|eot_id|><|eot_id|><|eot_id|><|eot_id|><|eot_id|><|eot_id|><|eot_id|><|eot_id|><|eot_id|><|eot_id|><|eot_id|><|eot_id|><|eot_id|><|eot_id|><|eot_id|><|eot_id|><|eot_id|><|eot_id|><|eot_id|><|eot_id|><|eot_id|><|eot_id|>']"
            ]
          },
          "metadata": {},
          "execution_count": 115
        }
      ]
    },
    {
      "cell_type": "markdown",
      "source": [
        "# Define the SAPLMA Classifier"
      ],
      "metadata": {
        "id": "2eDbmNsMSYnT"
      }
    },
    {
      "cell_type": "code",
      "source": [
        "from torch import nn\n",
        "import numpy as np\n",
        "import zipfile\n",
        "import os\n",
        "import pandas as pd\n",
        "import torch\n",
        "from torch.utils.data import Dataset, DataLoader"
      ],
      "metadata": {
        "id": "e8ZA5vSnSgwD"
      },
      "execution_count": null,
      "outputs": []
    },
    {
      "cell_type": "code",
      "source": [
        "class SAPLMAClassifier(nn.Module):\n",
        "    \"\"\"\n",
        "      SAPLMA Classifier as defined in https://arxiv.org/pdf/2304.13734\n",
        "    \"\"\"\n",
        "    def __init__(self, input_size):\n",
        "        super(SAPLMAClassifier, self).__init__()\n",
        "        self.classifier = nn.Sequential(\n",
        "            nn.Linear(input_size, 256),\n",
        "            nn.ReLU(),\n",
        "            nn.Linear(256, 128),\n",
        "            nn.ReLU(),\n",
        "            nn.Linear(128, 64),\n",
        "            nn.ReLU(),\n",
        "            nn.Linear(64, 1),\n",
        "            nn.Sigmoid(),\n",
        "        )\n",
        "\n",
        "    def forward(self, x):\n",
        "        return self.classifier(x)\n"
      ],
      "metadata": {
        "id": "JfqEsGqPvDEy"
      },
      "execution_count": null,
      "outputs": []
    },
    {
      "cell_type": "code",
      "source": [
        "model = SAPLMAClassifier(2048).to(\"cuda\")"
      ],
      "metadata": {
        "id": "yah-ae-sziKi"
      },
      "execution_count": null,
      "outputs": []
    },
    {
      "cell_type": "code",
      "source": [
        "output = model(hidden_states[-1][-1][0, 0, : ].float())"
      ],
      "metadata": {
        "id": "DGNUQuqIzuSB"
      },
      "execution_count": null,
      "outputs": []
    },
    {
      "cell_type": "code",
      "source": [
        "output.shape"
      ],
      "metadata": {
        "id": "xFJOLLKZ0iyU",
        "colab": {
          "base_uri": "https://localhost:8080/"
        },
        "outputId": "4538fe01-46f5-41ec-b04e-7f67397f0d72"
      },
      "execution_count": null,
      "outputs": [
        {
          "output_type": "execute_result",
          "data": {
            "text/plain": [
              "torch.Size([1])"
            ]
          },
          "metadata": {},
          "execution_count": 23
        }
      ]
    },
    {
      "cell_type": "code",
      "source": [
        "output"
      ],
      "metadata": {
        "id": "Q1lL-p3B0Gzf",
        "colab": {
          "base_uri": "https://localhost:8080/"
        },
        "outputId": "496a91fe-1e4e-4ecd-d8df-d5bd232b027a"
      },
      "execution_count": null,
      "outputs": [
        {
          "output_type": "execute_result",
          "data": {
            "text/plain": [
              "tensor([0.5089], device='cuda:0', grad_fn=<SigmoidBackward0>)"
            ]
          },
          "metadata": {},
          "execution_count": 24
        }
      ]
    },
    {
      "cell_type": "markdown",
      "source": [
        "## Load the true/false dataset"
      ],
      "metadata": {
        "id": "LNoPvFZLVQkC"
      }
    },
    {
      "cell_type": "code",
      "source": [
        "import os\n",
        "import pandas as pd\n",
        "import torch\n",
        "from torch.utils.data import Dataset\n",
        "\n",
        "class StatementDataset(Dataset):\n",
        "    \"\"\"\n",
        "    PyTorch Dataset for statements and their truth values.\n",
        "    \"\"\"\n",
        "    def __init__(self, dataframe):\n",
        "        \"\"\"\n",
        "        Args:\n",
        "            dataframe (pd.DataFrame): The combined dataset from all CSV files.\n",
        "                                      Expects columns ['statement', 'label', 'topic'].\n",
        "        \"\"\"\n",
        "        self.data = dataframe\n",
        "\n",
        "    def __len__(self):\n",
        "        return len(self.data)\n",
        "\n",
        "    def __getitem__(self, idx):\n",
        "        \"\"\"\n",
        "        Args:\n",
        "            idx (int): Index of the row to retrieve.\n",
        "\n",
        "        Returns:\n",
        "            tuple: (statement, label, topic), where statement is the text,\n",
        "                   label is the binary target, and topic is the source file name.\n",
        "        \"\"\"\n",
        "        row = self.data.iloc[idx]\n",
        "        statement = row['statement']\n",
        "        label = torch.tensor(row['label'], dtype=torch.float32)\n",
        "        topic = row['topic']\n",
        "        return statement, label, topic\n",
        "\n",
        "\n",
        "def create_dataset_with_topics(drive_path):\n",
        "    \"\"\"\n",
        "    Create a StatementDataset from CSV files in a specified Google Drive folder,\n",
        "    adding a 'topic' column to indicate the source file of each row.\n",
        "\n",
        "    Args:\n",
        "        drive_path (str): Path to the folder containing the CSV files.\n",
        "\n",
        "    Returns:\n",
        "        StatementDataset: PyTorch Dataset for the combined dataset.\n",
        "    \"\"\"\n",
        "    # Ensure the path exists\n",
        "    if not os.path.exists(drive_path):\n",
        "        raise ValueError(f\"Path '{drive_path}' does not exist.\")\n",
        "\n",
        "    all_dataframes = []\n",
        "    for file_name in os.listdir(drive_path):\n",
        "        file_path = os.path.join(drive_path, file_name)\n",
        "        if file_name.endswith(\".csv\"):\n",
        "            print(f\"Loading file: {file_name}\")\n",
        "            # Read the CSV and add a 'topic' column with the file name (without extension)\n",
        "            df = pd.read_csv(file_path)\n",
        "            df['topic'] = os.path.splitext(file_name)[0]  # Add topic column\n",
        "            all_dataframes.append(df)\n",
        "\n",
        "    if all_dataframes:\n",
        "        combined_dataset = pd.concat(all_dataframes, ignore_index=True)\n",
        "    else:\n",
        "        raise ValueError(f\"No CSV files found in the directory '{drive_path}'.\")\n",
        "\n",
        "    # Create and return the PyTorch Dataset\n",
        "    return StatementDataset(combined_dataset)\n"
      ],
      "metadata": {
        "id": "7qy8nOnTvGg4"
      },
      "execution_count": null,
      "outputs": []
    },
    {
      "cell_type": "code",
      "source": [
        "datasetPath = os.path.join(DRIVE_PATH, \"publicDataset\")\n",
        "\n",
        "dataset = create_dataset_with_topics(datasetPath)\n",
        "dataloader = DataLoader(dataset, batch_size=4, shuffle=True)\n",
        "# Iterate through the DataLoader\n",
        "for statements, labels, topics  in dataloader:\n",
        "    print(\"Statements:\", statements)\n",
        "    print(\"Labels:\", labels)\n",
        "    print(\"Labels type:\", type(labels[0].item()))\n",
        "    print(\"Topics:\", topics)\n",
        "    break\n"
      ],
      "metadata": {
        "id": "xQ0AM52oVD2b",
        "colab": {
          "base_uri": "https://localhost:8080/"
        },
        "outputId": "35c7d50c-45a9-4aa4-a5ac-2a13ce66bb33"
      },
      "execution_count": null,
      "outputs": [
        {
          "output_type": "stream",
          "name": "stdout",
          "text": [
            "Loading file: cities_true_false.csv\n",
            "Loading file: animals_true_false.csv\n",
            "Loading file: elements_true_false.csv\n",
            "Loading file: inventions_true_false.csv\n",
            "Loading file: companies_true_false.csv\n",
            "Loading file: generated_true_false.csv\n",
            "Loading file: facts_true_false.csv\n",
            "Statements: ('Kinshasa is located in the Democratic Republic of the Congo.', 'Iron has the symbol Tl.', 'Caterpillar operates in the industry of capital goods.', 'Zhores Alferov invented the heterotransistor.')\n",
            "Labels: tensor([1., 0., 1., 1.])\n",
            "Labels type: <class 'float'>\n",
            "Topics: ('generated_true_false', 'elements_true_false', 'companies_true_false', 'inventions_true_false')\n"
          ]
        }
      ]
    },
    {
      "cell_type": "code",
      "source": [
        "def split_dataset_by_topic(dataset):\n",
        "    \"\"\"\n",
        "    Splits the dataset for leave-one-topic-out cross-validation.\n",
        "\n",
        "    Args:\n",
        "        dataset (StatementDataset): The full dataset to split.\n",
        "\n",
        "    Returns:\n",
        "        dict: A dictionary where keys are topic names, and values are tuples (train_set, test_set).\n",
        "              train_set and test_set are StatementDataset instances.\n",
        "    \"\"\"\n",
        "    # Extract the underlying DataFrame\n",
        "    dataframe = dataset.data\n",
        "\n",
        "    # Get unique topics\n",
        "    topics = dataframe['topic'].unique()\n",
        "    split_data = {}\n",
        "\n",
        "    for topic in topics:\n",
        "        # Split data into training and testing sets\n",
        "        test_data = dataframe[dataframe['topic'] == topic]\n",
        "        train_data = dataframe[dataframe['topic'] != topic]\n",
        "\n",
        "        # Create datasets\n",
        "        train_set = StatementDataset(train_data.reset_index(drop=True))\n",
        "        test_set = StatementDataset(test_data.reset_index(drop=True))\n",
        "\n",
        "        # Store the split\n",
        "        split_data[topic] = (train_set, test_set)\n",
        "\n",
        "    return split_data\n"
      ],
      "metadata": {
        "id": "AiVEFuIL6KZU"
      },
      "execution_count": null,
      "outputs": []
    },
    {
      "cell_type": "code",
      "source": [
        "split_data = split_dataset_by_topic(dataset)\n",
        "\n",
        "for topic, (train_set, test_set) in split_data.items():\n",
        "    print(f\"Topic: {topic}\")\n",
        "    print(f\"Train size: {len(train_set)}, Test size: {len(test_set)}\")\n"
      ],
      "metadata": {
        "id": "7ZZfVdbS4LbI",
        "colab": {
          "base_uri": "https://localhost:8080/"
        },
        "outputId": "10b710b2-81be-47ff-be1d-63d258c74896"
      },
      "execution_count": null,
      "outputs": [
        {
          "output_type": "stream",
          "name": "stdout",
          "text": [
            "Topic: cities_true_false\n",
            "Train size: 4872, Test size: 1458\n",
            "Topic: animals_true_false\n",
            "Train size: 5322, Test size: 1008\n",
            "Topic: elements_true_false\n",
            "Train size: 5400, Test size: 930\n",
            "Topic: inventions_true_false\n",
            "Train size: 5454, Test size: 876\n",
            "Topic: companies_true_false\n",
            "Train size: 5130, Test size: 1200\n",
            "Topic: generated_true_false\n",
            "Train size: 6085, Test size: 245\n",
            "Topic: facts_true_false\n",
            "Train size: 5717, Test size: 613\n"
          ]
        }
      ]
    },
    {
      "cell_type": "code",
      "source": [
        "import torch\n",
        "\n",
        "def mean_of_last_tensors_of_each_token(data):\n",
        "    \"\"\"\n",
        "    Compute the mean of tensors that are the last element of each tuple in a tuple of tuples.\n",
        "\n",
        "    Args:\n",
        "        data (tuple): A tuple of tuples, where each inner tuple has a tensor as its last element.\n",
        "                      Each tensor is assumed to have the shape [1, 1, hidden_size].\n",
        "\n",
        "    Returns:\n",
        "        torch.Tensor: The mean tensor with the same shape as the input tensors.\n",
        "    \"\"\"\n",
        "    # Extract the last tensors from each inner tuple\n",
        "    tensors = [item[-1] for item in data[1:] if isinstance(item[-1], torch.Tensor)]\n",
        "    # for i,item in enumerate(data):\n",
        "    #   for j,item2 in enumerate(item):\n",
        "    #     print(f\"token {i} layer {j} shape {item2.shape}\")\n",
        "    # Stack the tensors along a new dimension\n",
        "    stacked_tensors = torch.stack(tensors, dim=0)\n",
        "\n",
        "    # Compute the mean along the first dimension\n",
        "    mean_tensor = stacked_tensors.mean(dim=0)\n",
        "\n",
        "    return mean_tensor\n"
      ],
      "metadata": {
        "id": "qJKu_FNWfZeN"
      },
      "execution_count": null,
      "outputs": []
    },
    {
      "cell_type": "code",
      "source": [
        "import torch\n",
        "\n",
        "def mean_of_last_last_of_input_hidden_state(data):\n",
        "    \"\"\"\n",
        "    Compute the mean of tensors that are the last element of each tuple in a tuple of tuples.\n",
        "\n",
        "    Args:\n",
        "        data (tuple): A tuple of tuples, where each inner tuple has a tensor as its last element.\n",
        "                      Each tensor is assumed to have the shape [1, 1, hidden_size].\n",
        "\n",
        "    Returns:\n",
        "        torch.Tensor: The mean tensor with the same shape as the input tensors.\n",
        "    \"\"\"\n",
        "    print(f\"GUARDA LA SHAPE {len(data)}\")\n",
        "    return data[0][-1].mean(dim=1, dtype=torch.float32).squeeze(0)\n"
      ],
      "metadata": {
        "id": "F3bInddunj9j"
      },
      "execution_count": null,
      "outputs": []
    },
    {
      "cell_type": "code",
      "source": [
        "media = mean_of_last_last_of_input_hidden_state(hidden_states)"
      ],
      "metadata": {
        "id": "-5EPkV_sj_Zj"
      },
      "execution_count": null,
      "outputs": []
    },
    {
      "cell_type": "code",
      "source": [
        "media.shape"
      ],
      "metadata": {
        "colab": {
          "base_uri": "https://localhost:8080/"
        },
        "id": "u0K248CLljsi",
        "outputId": "35772aea-cef7-425b-ece5-4cf6020ebc84"
      },
      "execution_count": null,
      "outputs": [
        {
          "output_type": "execute_result",
          "data": {
            "text/plain": [
              "torch.Size([2048])"
            ]
          },
          "metadata": {},
          "execution_count": 81
        }
      ]
    },
    {
      "cell_type": "code",
      "source": [
        "media"
      ],
      "metadata": {
        "colab": {
          "base_uri": "https://localhost:8080/"
        },
        "id": "qSvAziUrlm3Z",
        "outputId": "d78b6991-6dc5-4890-ee85-8c6b2f4ec606"
      },
      "execution_count": null,
      "outputs": [
        {
          "output_type": "execute_result",
          "data": {
            "text/plain": [
              "tensor([ 0.5045,  2.1989,  1.5042,  ..., -1.5236, -2.3463, -0.8636],\n",
              "       device='cuda:0')"
            ]
          },
          "metadata": {},
          "execution_count": 82
        }
      ]
    },
    {
      "cell_type": "code",
      "source": [
        "import torch\n",
        "from torch.utils.data import DataLoader\n",
        "import torch.nn as nn\n",
        "import torch.optim as optim\n",
        "from tqdm import tqdm\n",
        "\n",
        "\n",
        "def train_spalma_model(model: nn.Module,\n",
        "                      dataset: torch.utils.data.Dataset,\n",
        "                      llm: LlamaInstruct,\n",
        "                      batch_size: int = 32,\n",
        "                      epochs: int = 5,\n",
        "                      learning_rate: float = 1e-4,\n",
        "                      device: str = 'cuda'\n",
        "                  ) -> nn.Module:\n",
        "    \"\"\"\n",
        "    Train the SAPLMA classifier using the given dataset and LLM.\n",
        "\n",
        "    Args:\n",
        "        model (nn.Module): SAPLMA classifier model.\n",
        "        dataset (StatementDataset): Dataset containing statements and labels.\n",
        "        llm (transformers.PreTrainedModel): The pre-trained LLM to extract hidden states.\n",
        "        batch_size (int): Batch size for training.\n",
        "        epochs (int): Number of training epochs.\n",
        "        learning_rate (float): Learning rate for the optimizer.\n",
        "        device (str): Device to run the training on ('cuda' or 'cpu').\n",
        "\n",
        "    Returns:\n",
        "        nn.Module: Trained SAPLMA classifier.\n",
        "    \"\"\"\n",
        "    # Move model to device\n",
        "    model = model.to(device)\n",
        "    model.train()\n",
        "\n",
        "    # Create DataLoader\n",
        "    dataloader = DataLoader(dataset, batch_size=batch_size, shuffle=True)\n",
        "\n",
        "    # Optimizer and loss function\n",
        "    optimizer = optim.Adam(model.parameters(), lr=learning_rate)\n",
        "    criterion = nn.BCELoss()  # Binary Cross-Entropy Loss for classification\n",
        "\n",
        "    extractor = LlamaHiddenStatesExtractor(llama)\n",
        "\n",
        "    # Training loop\n",
        "    for epoch in range(epochs):\n",
        "        total_loss = 0.0\n",
        "        correct_predictions = 0\n",
        "        total_samples = 0\n",
        "\n",
        "        progress_bar = tqdm(dataloader, desc=f\"Epoch {epoch + 1}/{epochs}\", leave=False)\n",
        "        for statements, labels, _ in progress_bar:\n",
        "            # Move data to device\n",
        "            # if type(statements) == torch.Tensor:\n",
        "            #   print(f\"statements shape {statements.shape}\")\n",
        "            # else: print(f\"statements len {len(statements)} and type {type(statements)}\")\n",
        "            # if type(labels) == torch.Tensor:\n",
        "            #   print(f\"statements shape {labels.shape}\")\n",
        "            # else: print(f\"statements len {len(labels)} and type {type(labels)}\")\n",
        "            labels = labels.to(device)\n",
        "            print(statements)\n",
        "            # Extract hidden states from LLM for the selected layers\n",
        "            with torch.no_grad():  # No gradients needed for the LLM\n",
        "                hidden_states, _ = extractor.extract_hidden_states(statements, verbose=True)\n",
        "\n",
        "            # Compute mean hidden states for the last input layer\n",
        "            mean_rep = mean_of_last_last_of_input_hidden_state(hidden_states)\n",
        "\n",
        "            # Forward pass through the model\n",
        "            predictions = model(mean_rep)\n",
        "\n",
        "            # Compute loss\n",
        "            loss = criterion(predictions, labels)\n",
        "            total_loss += loss.item()\n",
        "\n",
        "            # Backward pass and optimization\n",
        "            optimizer.zero_grad()\n",
        "            loss.backward()\n",
        "            optimizer.step()\n",
        "\n",
        "            # Compute accuracy\n",
        "            predicted_labels = (predictions >= 0.5).float()\n",
        "            correct_predictions += (predicted_labels == labels).sum().item()\n",
        "            total_samples += labels.size(0)\n",
        "\n",
        "            progress_bar.set_postfix({\"Loss\": loss.item(), \"Accuracy\": correct_predictions / total_samples})\n",
        "\n",
        "        print(f\"Epoch {epoch + 1}/{epochs} - Loss: {total_loss:.4f} - Accuracy: {correct_predictions / total_samples:.4f}\")\n",
        "\n",
        "    return model\n"
      ],
      "metadata": {
        "id": "9qq3puy5lyQ2"
      },
      "execution_count": null,
      "outputs": []
    },
    {
      "cell_type": "code",
      "source": [
        "for statement, label, _ in train_set:\n",
        "    print(type(label.item()))\n",
        "    break"
      ],
      "metadata": {
        "colab": {
          "base_uri": "https://localhost:8080/"
        },
        "id": "_c-9qVrrxeMR",
        "outputId": "a32ff66a-7260-433b-9070-a3c79f003d75"
      },
      "execution_count": null,
      "outputs": [
        {
          "output_type": "stream",
          "name": "stdout",
          "text": [
            "<class 'float'>\n"
          ]
        }
      ]
    },
    {
      "cell_type": "code",
      "source": [
        "train_spalma_model(model,train_set,llama)"
      ],
      "metadata": {
        "colab": {
          "base_uri": "https://localhost:8080/",
          "height": 480
        },
        "id": "lZeQ6qHNw5NH",
        "outputId": "e86918e1-1f86-4b4d-dd51-e29bbb831690"
      },
      "execution_count": null,
      "outputs": [
        {
          "output_type": "stream",
          "name": "stderr",
          "text": [
            "\rEpoch 1/5:   0%|          | 0/179 [00:00<?, ?it/s]"
          ]
        },
        {
          "output_type": "stream",
          "name": "stdout",
          "text": [
            "('The Valley is a city in Anguilla', 'Ulan Bator is a name of a city.', 'Novartis operates in the industry of drugs & biotechnology.', 'Ottawa hosts many festivals and events.', 'JUBA is the capital of the state.', 'The bison has the atomic number of amphibian.', 'São Tomé is a city in Puerto Rico', 'HCA Healthcare has headquarters in United Kingdom.', 'The leopard has a diet of carnivore.', 'Faroe Islands is a name of a city.', 'The deer has a habitat of forest/urban.', 'Alec Jeffreys lived in U.K.', 'Tegucigalpa is a name of a country.', 'Terbium is in the Alkali metal group.', 'Honiara is a city in Solomon Islands', 'The seagull uses flying for locomotion.', 'Samsung Group engages in the exploration, production, refining and sale of oil, gas, electricity and chemicals..', 'Basseterre is a city in Saint Kitts and Nevis', 'Malaysia is a name of a city.', 'Johnson & Johnson provides insurance and financial services to individual and institutional customers..', 'MetLife has headquarters in United States.', 'Hans Oersted invented the wireless remote control.', 'Human uses for bee include pollination, honey production.', 'Ralph H. Baer lived in U.S.', 'Bismuth has the atomic number of 83.', 'Warsaw is a city in Dominican Republic', 'Enbridge engages in the provision of banking, investments, life and non-life insurance, and retirement and asset management services..', 'Ralph H. Baer lived in France.', 'Paraguay is a name of a country.', 'Kiribati is a name of a country.', 'Deutsche Telekom operates as a financial holding company that engages in the provision of financial products and services..', 'Islamabad is a name of a city.')\n",
            "Max len: 1000\n",
            "Return sequences: 1\n",
            "Llama num_heads: 32\n",
            "Llama hidden_layers: 16\n",
            "Prompt: ('The Valley is a city in Anguilla', 'Ulan Bator is a name of a city.', 'Novartis operates in the industry of drugs & biotechnology.', 'Ottawa hosts many festivals and events.', 'JUBA is the capital of the state.', 'The bison has the atomic number of amphibian.', 'São Tomé is a city in Puerto Rico', 'HCA Healthcare has headquarters in United Kingdom.', 'The leopard has a diet of carnivore.', 'Faroe Islands is a name of a city.', 'The deer has a habitat of forest/urban.', 'Alec Jeffreys lived in U.K.', 'Tegucigalpa is a name of a country.', 'Terbium is in the Alkali metal group.', 'Honiara is a city in Solomon Islands', 'The seagull uses flying for locomotion.', 'Samsung Group engages in the exploration, production, refining and sale of oil, gas, electricity and chemicals..', 'Basseterre is a city in Saint Kitts and Nevis', 'Malaysia is a name of a city.', 'Johnson & Johnson provides insurance and financial services to individual and institutional customers..', 'MetLife has headquarters in United States.', 'Hans Oersted invented the wireless remote control.', 'Human uses for bee include pollination, honey production.', 'Ralph H. Baer lived in U.S.', 'Bismuth has the atomic number of 83.', 'Warsaw is a city in Dominican Republic', 'Enbridge engages in the provision of banking, investments, life and non-life insurance, and retirement and asset management services..', 'Ralph H. Baer lived in France.', 'Paraguay is a name of a country.', 'Kiribati is a name of a country.', 'Deutsche Telekom operates as a financial holding company that engages in the provision of financial products and services..', 'Islamabad is a name of a city.')\n",
            "Encoded tokens shape: torch.Size([1, 427])\n"
          ]
        },
        {
          "output_type": "stream",
          "name": "stderr",
          "text": [
            "\r                                                  "
          ]
        },
        {
          "output_type": "stream",
          "name": "stdout",
          "text": [
            "Generated output shape: torch.Size([1, 613])\n",
            "hidden_states: <class 'tuple'>[186 items]: <class 'tuple'>[17]: <class 'torch.Tensor'>\n",
            "GUARDA LA SHAPE 186\n"
          ]
        },
        {
          "output_type": "stream",
          "name": "stderr",
          "text": [
            "\r"
          ]
        },
        {
          "output_type": "error",
          "ename": "ValueError",
          "evalue": "Using a target size (torch.Size([32])) that is different to the input size (torch.Size([1])) is deprecated. Please ensure they have the same size.",
          "traceback": [
            "\u001b[0;31m---------------------------------------------------------------------------\u001b[0m",
            "\u001b[0;31mValueError\u001b[0m                                Traceback (most recent call last)",
            "\u001b[0;32m<ipython-input-124-32008bbb3433>\u001b[0m in \u001b[0;36m<cell line: 1>\u001b[0;34m()\u001b[0m\n\u001b[0;32m----> 1\u001b[0;31m \u001b[0mtrain_spalma_model\u001b[0m\u001b[0;34m(\u001b[0m\u001b[0mmodel\u001b[0m\u001b[0;34m,\u001b[0m\u001b[0mtrain_set\u001b[0m\u001b[0;34m,\u001b[0m\u001b[0mllama\u001b[0m\u001b[0;34m)\u001b[0m\u001b[0;34m\u001b[0m\u001b[0;34m\u001b[0m\u001b[0m\n\u001b[0m",
            "\u001b[0;32m<ipython-input-123-64bd47906e28>\u001b[0m in \u001b[0;36mtrain_spalma_model\u001b[0;34m(model, dataset, llm, batch_size, epochs, learning_rate, device)\u001b[0m\n\u001b[1;32m     70\u001b[0m \u001b[0;34m\u001b[0m\u001b[0m\n\u001b[1;32m     71\u001b[0m             \u001b[0;31m# Compute loss\u001b[0m\u001b[0;34m\u001b[0m\u001b[0;34m\u001b[0m\u001b[0m\n\u001b[0;32m---> 72\u001b[0;31m             \u001b[0mloss\u001b[0m \u001b[0;34m=\u001b[0m \u001b[0mcriterion\u001b[0m\u001b[0;34m(\u001b[0m\u001b[0mpredictions\u001b[0m\u001b[0;34m,\u001b[0m \u001b[0mlabels\u001b[0m\u001b[0;34m)\u001b[0m\u001b[0;34m\u001b[0m\u001b[0;34m\u001b[0m\u001b[0m\n\u001b[0m\u001b[1;32m     73\u001b[0m             \u001b[0mtotal_loss\u001b[0m \u001b[0;34m+=\u001b[0m \u001b[0mloss\u001b[0m\u001b[0;34m.\u001b[0m\u001b[0mitem\u001b[0m\u001b[0;34m(\u001b[0m\u001b[0;34m)\u001b[0m\u001b[0;34m\u001b[0m\u001b[0;34m\u001b[0m\u001b[0m\n\u001b[1;32m     74\u001b[0m \u001b[0;34m\u001b[0m\u001b[0m\n",
            "\u001b[0;32m/usr/local/lib/python3.10/dist-packages/torch/nn/modules/module.py\u001b[0m in \u001b[0;36m_wrapped_call_impl\u001b[0;34m(self, *args, **kwargs)\u001b[0m\n\u001b[1;32m   1734\u001b[0m             \u001b[0;32mreturn\u001b[0m \u001b[0mself\u001b[0m\u001b[0;34m.\u001b[0m\u001b[0m_compiled_call_impl\u001b[0m\u001b[0;34m(\u001b[0m\u001b[0;34m*\u001b[0m\u001b[0margs\u001b[0m\u001b[0;34m,\u001b[0m \u001b[0;34m**\u001b[0m\u001b[0mkwargs\u001b[0m\u001b[0;34m)\u001b[0m  \u001b[0;31m# type: ignore[misc]\u001b[0m\u001b[0;34m\u001b[0m\u001b[0;34m\u001b[0m\u001b[0m\n\u001b[1;32m   1735\u001b[0m         \u001b[0;32melse\u001b[0m\u001b[0;34m:\u001b[0m\u001b[0;34m\u001b[0m\u001b[0;34m\u001b[0m\u001b[0m\n\u001b[0;32m-> 1736\u001b[0;31m             \u001b[0;32mreturn\u001b[0m \u001b[0mself\u001b[0m\u001b[0;34m.\u001b[0m\u001b[0m_call_impl\u001b[0m\u001b[0;34m(\u001b[0m\u001b[0;34m*\u001b[0m\u001b[0margs\u001b[0m\u001b[0;34m,\u001b[0m \u001b[0;34m**\u001b[0m\u001b[0mkwargs\u001b[0m\u001b[0;34m)\u001b[0m\u001b[0;34m\u001b[0m\u001b[0;34m\u001b[0m\u001b[0m\n\u001b[0m\u001b[1;32m   1737\u001b[0m \u001b[0;34m\u001b[0m\u001b[0m\n\u001b[1;32m   1738\u001b[0m     \u001b[0;31m# torchrec tests the code consistency with the following code\u001b[0m\u001b[0;34m\u001b[0m\u001b[0;34m\u001b[0m\u001b[0m\n",
            "\u001b[0;32m/usr/local/lib/python3.10/dist-packages/torch/nn/modules/module.py\u001b[0m in \u001b[0;36m_call_impl\u001b[0;34m(self, *args, **kwargs)\u001b[0m\n\u001b[1;32m   1745\u001b[0m                 \u001b[0;32mor\u001b[0m \u001b[0m_global_backward_pre_hooks\u001b[0m \u001b[0;32mor\u001b[0m \u001b[0m_global_backward_hooks\u001b[0m\u001b[0;34m\u001b[0m\u001b[0;34m\u001b[0m\u001b[0m\n\u001b[1;32m   1746\u001b[0m                 or _global_forward_hooks or _global_forward_pre_hooks):\n\u001b[0;32m-> 1747\u001b[0;31m             \u001b[0;32mreturn\u001b[0m \u001b[0mforward_call\u001b[0m\u001b[0;34m(\u001b[0m\u001b[0;34m*\u001b[0m\u001b[0margs\u001b[0m\u001b[0;34m,\u001b[0m \u001b[0;34m**\u001b[0m\u001b[0mkwargs\u001b[0m\u001b[0;34m)\u001b[0m\u001b[0;34m\u001b[0m\u001b[0;34m\u001b[0m\u001b[0m\n\u001b[0m\u001b[1;32m   1748\u001b[0m \u001b[0;34m\u001b[0m\u001b[0m\n\u001b[1;32m   1749\u001b[0m         \u001b[0mresult\u001b[0m \u001b[0;34m=\u001b[0m \u001b[0;32mNone\u001b[0m\u001b[0;34m\u001b[0m\u001b[0;34m\u001b[0m\u001b[0m\n",
            "\u001b[0;32m/usr/local/lib/python3.10/dist-packages/torch/nn/modules/loss.py\u001b[0m in \u001b[0;36mforward\u001b[0;34m(self, input, target)\u001b[0m\n\u001b[1;32m    695\u001b[0m \u001b[0;34m\u001b[0m\u001b[0m\n\u001b[1;32m    696\u001b[0m     \u001b[0;32mdef\u001b[0m \u001b[0mforward\u001b[0m\u001b[0;34m(\u001b[0m\u001b[0mself\u001b[0m\u001b[0;34m,\u001b[0m \u001b[0minput\u001b[0m\u001b[0;34m:\u001b[0m \u001b[0mTensor\u001b[0m\u001b[0;34m,\u001b[0m \u001b[0mtarget\u001b[0m\u001b[0;34m:\u001b[0m \u001b[0mTensor\u001b[0m\u001b[0;34m)\u001b[0m \u001b[0;34m->\u001b[0m \u001b[0mTensor\u001b[0m\u001b[0;34m:\u001b[0m\u001b[0;34m\u001b[0m\u001b[0;34m\u001b[0m\u001b[0m\n\u001b[0;32m--> 697\u001b[0;31m         return F.binary_cross_entropy(\n\u001b[0m\u001b[1;32m    698\u001b[0m             \u001b[0minput\u001b[0m\u001b[0;34m,\u001b[0m \u001b[0mtarget\u001b[0m\u001b[0;34m,\u001b[0m \u001b[0mweight\u001b[0m\u001b[0;34m=\u001b[0m\u001b[0mself\u001b[0m\u001b[0;34m.\u001b[0m\u001b[0mweight\u001b[0m\u001b[0;34m,\u001b[0m \u001b[0mreduction\u001b[0m\u001b[0;34m=\u001b[0m\u001b[0mself\u001b[0m\u001b[0;34m.\u001b[0m\u001b[0mreduction\u001b[0m\u001b[0;34m\u001b[0m\u001b[0;34m\u001b[0m\u001b[0m\n\u001b[1;32m    699\u001b[0m         )\n",
            "\u001b[0;32m/usr/local/lib/python3.10/dist-packages/torch/nn/functional.py\u001b[0m in \u001b[0;36mbinary_cross_entropy\u001b[0;34m(input, target, weight, size_average, reduce, reduction)\u001b[0m\n\u001b[1;32m   3543\u001b[0m         \u001b[0mreduction_enum\u001b[0m \u001b[0;34m=\u001b[0m \u001b[0m_Reduction\u001b[0m\u001b[0;34m.\u001b[0m\u001b[0mget_enum\u001b[0m\u001b[0;34m(\u001b[0m\u001b[0mreduction\u001b[0m\u001b[0;34m)\u001b[0m\u001b[0;34m\u001b[0m\u001b[0;34m\u001b[0m\u001b[0m\n\u001b[1;32m   3544\u001b[0m     \u001b[0;32mif\u001b[0m \u001b[0mtarget\u001b[0m\u001b[0;34m.\u001b[0m\u001b[0msize\u001b[0m\u001b[0;34m(\u001b[0m\u001b[0;34m)\u001b[0m \u001b[0;34m!=\u001b[0m \u001b[0minput\u001b[0m\u001b[0;34m.\u001b[0m\u001b[0msize\u001b[0m\u001b[0;34m(\u001b[0m\u001b[0;34m)\u001b[0m\u001b[0;34m:\u001b[0m\u001b[0;34m\u001b[0m\u001b[0;34m\u001b[0m\u001b[0m\n\u001b[0;32m-> 3545\u001b[0;31m         raise ValueError(\n\u001b[0m\u001b[1;32m   3546\u001b[0m             \u001b[0;34mf\"Using a target size ({target.size()}) that is different to the input size ({input.size()}) is deprecated. \"\u001b[0m\u001b[0;34m\u001b[0m\u001b[0;34m\u001b[0m\u001b[0m\n\u001b[1;32m   3547\u001b[0m             \u001b[0;34m\"Please ensure they have the same size.\"\u001b[0m\u001b[0;34m\u001b[0m\u001b[0;34m\u001b[0m\u001b[0m\n",
            "\u001b[0;31mValueError\u001b[0m: Using a target size (torch.Size([32])) that is different to the input size (torch.Size([1])) is deprecated. Please ensure they have the same size."
          ]
        }
      ]
    }
  ],
  "metadata": {
    "colab": {
      "provenance": [],
      "gpuType": "T4",
      "collapsed_sections": [
        "_B73HH20vEJ6"
      ]
    },
    "kernelspec": {
      "display_name": "Python 3",
      "name": "python3"
    },
    "language_info": {
      "codemirror_mode": {
        "name": "ipython",
        "version": 3
      },
      "file_extension": ".py",
      "mimetype": "text/x-python",
      "name": "python",
      "nbconvert_exporter": "python",
      "pygments_lexer": "ipython3",
      "version": "3.12.7"
    },
    "accelerator": "GPU",
    "widgets": {
      "application/vnd.jupyter.widget-state+json": {
        "1618bd81af8d48e1a1c5b2fcbd98875d": {
          "model_module": "@jupyter-widgets/controls",
          "model_name": "HBoxModel",
          "model_module_version": "1.5.0",
          "state": {
            "_dom_classes": [],
            "_model_module": "@jupyter-widgets/controls",
            "_model_module_version": "1.5.0",
            "_model_name": "HBoxModel",
            "_view_count": null,
            "_view_module": "@jupyter-widgets/controls",
            "_view_module_version": "1.5.0",
            "_view_name": "HBoxView",
            "box_style": "",
            "children": [
              "IPY_MODEL_e82900de1a484134b1afe8dddf396970",
              "IPY_MODEL_8b416ad6399d478891582ef75db02943",
              "IPY_MODEL_ac17e98bfa0e49ecae4afd38aebaf6b6"
            ],
            "layout": "IPY_MODEL_dfb14902408244d1b63735e53f146c3f"
          }
        },
        "e82900de1a484134b1afe8dddf396970": {
          "model_module": "@jupyter-widgets/controls",
          "model_name": "HTMLModel",
          "model_module_version": "1.5.0",
          "state": {
            "_dom_classes": [],
            "_model_module": "@jupyter-widgets/controls",
            "_model_module_version": "1.5.0",
            "_model_name": "HTMLModel",
            "_view_count": null,
            "_view_module": "@jupyter-widgets/controls",
            "_view_module_version": "1.5.0",
            "_view_name": "HTMLView",
            "description": "",
            "description_tooltip": null,
            "layout": "IPY_MODEL_2175feeaac8542dc9ee511e52b0e202f",
            "placeholder": "​",
            "style": "IPY_MODEL_33c41540b4bd43b682e9c6f3ec920470",
            "value": "config.json: 100%"
          }
        },
        "8b416ad6399d478891582ef75db02943": {
          "model_module": "@jupyter-widgets/controls",
          "model_name": "FloatProgressModel",
          "model_module_version": "1.5.0",
          "state": {
            "_dom_classes": [],
            "_model_module": "@jupyter-widgets/controls",
            "_model_module_version": "1.5.0",
            "_model_name": "FloatProgressModel",
            "_view_count": null,
            "_view_module": "@jupyter-widgets/controls",
            "_view_module_version": "1.5.0",
            "_view_name": "ProgressView",
            "bar_style": "success",
            "description": "",
            "description_tooltip": null,
            "layout": "IPY_MODEL_0fb384bdf86441578b828cd0c444185c",
            "max": 877,
            "min": 0,
            "orientation": "horizontal",
            "style": "IPY_MODEL_085383a4c24a416b817c20fa1f46e9b8",
            "value": 877
          }
        },
        "ac17e98bfa0e49ecae4afd38aebaf6b6": {
          "model_module": "@jupyter-widgets/controls",
          "model_name": "HTMLModel",
          "model_module_version": "1.5.0",
          "state": {
            "_dom_classes": [],
            "_model_module": "@jupyter-widgets/controls",
            "_model_module_version": "1.5.0",
            "_model_name": "HTMLModel",
            "_view_count": null,
            "_view_module": "@jupyter-widgets/controls",
            "_view_module_version": "1.5.0",
            "_view_name": "HTMLView",
            "description": "",
            "description_tooltip": null,
            "layout": "IPY_MODEL_fffb42ad5f52451e81199d4c73fc3a24",
            "placeholder": "​",
            "style": "IPY_MODEL_3e9f0a1fc97a4edb968b9e8f696ca615",
            "value": " 877/877 [00:00&lt;00:00, 15.4kB/s]"
          }
        },
        "dfb14902408244d1b63735e53f146c3f": {
          "model_module": "@jupyter-widgets/base",
          "model_name": "LayoutModel",
          "model_module_version": "1.2.0",
          "state": {
            "_model_module": "@jupyter-widgets/base",
            "_model_module_version": "1.2.0",
            "_model_name": "LayoutModel",
            "_view_count": null,
            "_view_module": "@jupyter-widgets/base",
            "_view_module_version": "1.2.0",
            "_view_name": "LayoutView",
            "align_content": null,
            "align_items": null,
            "align_self": null,
            "border": null,
            "bottom": null,
            "display": null,
            "flex": null,
            "flex_flow": null,
            "grid_area": null,
            "grid_auto_columns": null,
            "grid_auto_flow": null,
            "grid_auto_rows": null,
            "grid_column": null,
            "grid_gap": null,
            "grid_row": null,
            "grid_template_areas": null,
            "grid_template_columns": null,
            "grid_template_rows": null,
            "height": null,
            "justify_content": null,
            "justify_items": null,
            "left": null,
            "margin": null,
            "max_height": null,
            "max_width": null,
            "min_height": null,
            "min_width": null,
            "object_fit": null,
            "object_position": null,
            "order": null,
            "overflow": null,
            "overflow_x": null,
            "overflow_y": null,
            "padding": null,
            "right": null,
            "top": null,
            "visibility": null,
            "width": null
          }
        },
        "2175feeaac8542dc9ee511e52b0e202f": {
          "model_module": "@jupyter-widgets/base",
          "model_name": "LayoutModel",
          "model_module_version": "1.2.0",
          "state": {
            "_model_module": "@jupyter-widgets/base",
            "_model_module_version": "1.2.0",
            "_model_name": "LayoutModel",
            "_view_count": null,
            "_view_module": "@jupyter-widgets/base",
            "_view_module_version": "1.2.0",
            "_view_name": "LayoutView",
            "align_content": null,
            "align_items": null,
            "align_self": null,
            "border": null,
            "bottom": null,
            "display": null,
            "flex": null,
            "flex_flow": null,
            "grid_area": null,
            "grid_auto_columns": null,
            "grid_auto_flow": null,
            "grid_auto_rows": null,
            "grid_column": null,
            "grid_gap": null,
            "grid_row": null,
            "grid_template_areas": null,
            "grid_template_columns": null,
            "grid_template_rows": null,
            "height": null,
            "justify_content": null,
            "justify_items": null,
            "left": null,
            "margin": null,
            "max_height": null,
            "max_width": null,
            "min_height": null,
            "min_width": null,
            "object_fit": null,
            "object_position": null,
            "order": null,
            "overflow": null,
            "overflow_x": null,
            "overflow_y": null,
            "padding": null,
            "right": null,
            "top": null,
            "visibility": null,
            "width": null
          }
        },
        "33c41540b4bd43b682e9c6f3ec920470": {
          "model_module": "@jupyter-widgets/controls",
          "model_name": "DescriptionStyleModel",
          "model_module_version": "1.5.0",
          "state": {
            "_model_module": "@jupyter-widgets/controls",
            "_model_module_version": "1.5.0",
            "_model_name": "DescriptionStyleModel",
            "_view_count": null,
            "_view_module": "@jupyter-widgets/base",
            "_view_module_version": "1.2.0",
            "_view_name": "StyleView",
            "description_width": ""
          }
        },
        "0fb384bdf86441578b828cd0c444185c": {
          "model_module": "@jupyter-widgets/base",
          "model_name": "LayoutModel",
          "model_module_version": "1.2.0",
          "state": {
            "_model_module": "@jupyter-widgets/base",
            "_model_module_version": "1.2.0",
            "_model_name": "LayoutModel",
            "_view_count": null,
            "_view_module": "@jupyter-widgets/base",
            "_view_module_version": "1.2.0",
            "_view_name": "LayoutView",
            "align_content": null,
            "align_items": null,
            "align_self": null,
            "border": null,
            "bottom": null,
            "display": null,
            "flex": null,
            "flex_flow": null,
            "grid_area": null,
            "grid_auto_columns": null,
            "grid_auto_flow": null,
            "grid_auto_rows": null,
            "grid_column": null,
            "grid_gap": null,
            "grid_row": null,
            "grid_template_areas": null,
            "grid_template_columns": null,
            "grid_template_rows": null,
            "height": null,
            "justify_content": null,
            "justify_items": null,
            "left": null,
            "margin": null,
            "max_height": null,
            "max_width": null,
            "min_height": null,
            "min_width": null,
            "object_fit": null,
            "object_position": null,
            "order": null,
            "overflow": null,
            "overflow_x": null,
            "overflow_y": null,
            "padding": null,
            "right": null,
            "top": null,
            "visibility": null,
            "width": null
          }
        },
        "085383a4c24a416b817c20fa1f46e9b8": {
          "model_module": "@jupyter-widgets/controls",
          "model_name": "ProgressStyleModel",
          "model_module_version": "1.5.0",
          "state": {
            "_model_module": "@jupyter-widgets/controls",
            "_model_module_version": "1.5.0",
            "_model_name": "ProgressStyleModel",
            "_view_count": null,
            "_view_module": "@jupyter-widgets/base",
            "_view_module_version": "1.2.0",
            "_view_name": "StyleView",
            "bar_color": null,
            "description_width": ""
          }
        },
        "fffb42ad5f52451e81199d4c73fc3a24": {
          "model_module": "@jupyter-widgets/base",
          "model_name": "LayoutModel",
          "model_module_version": "1.2.0",
          "state": {
            "_model_module": "@jupyter-widgets/base",
            "_model_module_version": "1.2.0",
            "_model_name": "LayoutModel",
            "_view_count": null,
            "_view_module": "@jupyter-widgets/base",
            "_view_module_version": "1.2.0",
            "_view_name": "LayoutView",
            "align_content": null,
            "align_items": null,
            "align_self": null,
            "border": null,
            "bottom": null,
            "display": null,
            "flex": null,
            "flex_flow": null,
            "grid_area": null,
            "grid_auto_columns": null,
            "grid_auto_flow": null,
            "grid_auto_rows": null,
            "grid_column": null,
            "grid_gap": null,
            "grid_row": null,
            "grid_template_areas": null,
            "grid_template_columns": null,
            "grid_template_rows": null,
            "height": null,
            "justify_content": null,
            "justify_items": null,
            "left": null,
            "margin": null,
            "max_height": null,
            "max_width": null,
            "min_height": null,
            "min_width": null,
            "object_fit": null,
            "object_position": null,
            "order": null,
            "overflow": null,
            "overflow_x": null,
            "overflow_y": null,
            "padding": null,
            "right": null,
            "top": null,
            "visibility": null,
            "width": null
          }
        },
        "3e9f0a1fc97a4edb968b9e8f696ca615": {
          "model_module": "@jupyter-widgets/controls",
          "model_name": "DescriptionStyleModel",
          "model_module_version": "1.5.0",
          "state": {
            "_model_module": "@jupyter-widgets/controls",
            "_model_module_version": "1.5.0",
            "_model_name": "DescriptionStyleModel",
            "_view_count": null,
            "_view_module": "@jupyter-widgets/base",
            "_view_module_version": "1.2.0",
            "_view_name": "StyleView",
            "description_width": ""
          }
        },
        "c303dddacd0f4ed6b8dddcc71e571659": {
          "model_module": "@jupyter-widgets/controls",
          "model_name": "HBoxModel",
          "model_module_version": "1.5.0",
          "state": {
            "_dom_classes": [],
            "_model_module": "@jupyter-widgets/controls",
            "_model_module_version": "1.5.0",
            "_model_name": "HBoxModel",
            "_view_count": null,
            "_view_module": "@jupyter-widgets/controls",
            "_view_module_version": "1.5.0",
            "_view_name": "HBoxView",
            "box_style": "",
            "children": [
              "IPY_MODEL_c891c565850d4d0594e192ec9f1eac56",
              "IPY_MODEL_362a45ca549e412b97963f1e82d7e64f",
              "IPY_MODEL_2e0a2837c3f64b58bbca133da6851836"
            ],
            "layout": "IPY_MODEL_2843fc319714446abede01e40531cb9c"
          }
        },
        "c891c565850d4d0594e192ec9f1eac56": {
          "model_module": "@jupyter-widgets/controls",
          "model_name": "HTMLModel",
          "model_module_version": "1.5.0",
          "state": {
            "_dom_classes": [],
            "_model_module": "@jupyter-widgets/controls",
            "_model_module_version": "1.5.0",
            "_model_name": "HTMLModel",
            "_view_count": null,
            "_view_module": "@jupyter-widgets/controls",
            "_view_module_version": "1.5.0",
            "_view_name": "HTMLView",
            "description": "",
            "description_tooltip": null,
            "layout": "IPY_MODEL_668a3babd6b84df5810f88ae7e0a6bdc",
            "placeholder": "​",
            "style": "IPY_MODEL_0f9b29db25a84f07b2d414cc8c7c19e1",
            "value": "model.safetensors: 100%"
          }
        },
        "362a45ca549e412b97963f1e82d7e64f": {
          "model_module": "@jupyter-widgets/controls",
          "model_name": "FloatProgressModel",
          "model_module_version": "1.5.0",
          "state": {
            "_dom_classes": [],
            "_model_module": "@jupyter-widgets/controls",
            "_model_module_version": "1.5.0",
            "_model_name": "FloatProgressModel",
            "_view_count": null,
            "_view_module": "@jupyter-widgets/controls",
            "_view_module_version": "1.5.0",
            "_view_name": "ProgressView",
            "bar_style": "success",
            "description": "",
            "description_tooltip": null,
            "layout": "IPY_MODEL_fcaccdf28bce49d7a0e24e06aeed325d",
            "max": 2471645608,
            "min": 0,
            "orientation": "horizontal",
            "style": "IPY_MODEL_17118287e07843568f729fb4dc92e272",
            "value": 2471645608
          }
        },
        "2e0a2837c3f64b58bbca133da6851836": {
          "model_module": "@jupyter-widgets/controls",
          "model_name": "HTMLModel",
          "model_module_version": "1.5.0",
          "state": {
            "_dom_classes": [],
            "_model_module": "@jupyter-widgets/controls",
            "_model_module_version": "1.5.0",
            "_model_name": "HTMLModel",
            "_view_count": null,
            "_view_module": "@jupyter-widgets/controls",
            "_view_module_version": "1.5.0",
            "_view_name": "HTMLView",
            "description": "",
            "description_tooltip": null,
            "layout": "IPY_MODEL_8c917301d79f4eefad02f7874fbc964c",
            "placeholder": "​",
            "style": "IPY_MODEL_900afa9053064c53b982148ef3ed3e39",
            "value": " 2.47G/2.47G [00:59&lt;00:00, 41.7MB/s]"
          }
        },
        "2843fc319714446abede01e40531cb9c": {
          "model_module": "@jupyter-widgets/base",
          "model_name": "LayoutModel",
          "model_module_version": "1.2.0",
          "state": {
            "_model_module": "@jupyter-widgets/base",
            "_model_module_version": "1.2.0",
            "_model_name": "LayoutModel",
            "_view_count": null,
            "_view_module": "@jupyter-widgets/base",
            "_view_module_version": "1.2.0",
            "_view_name": "LayoutView",
            "align_content": null,
            "align_items": null,
            "align_self": null,
            "border": null,
            "bottom": null,
            "display": null,
            "flex": null,
            "flex_flow": null,
            "grid_area": null,
            "grid_auto_columns": null,
            "grid_auto_flow": null,
            "grid_auto_rows": null,
            "grid_column": null,
            "grid_gap": null,
            "grid_row": null,
            "grid_template_areas": null,
            "grid_template_columns": null,
            "grid_template_rows": null,
            "height": null,
            "justify_content": null,
            "justify_items": null,
            "left": null,
            "margin": null,
            "max_height": null,
            "max_width": null,
            "min_height": null,
            "min_width": null,
            "object_fit": null,
            "object_position": null,
            "order": null,
            "overflow": null,
            "overflow_x": null,
            "overflow_y": null,
            "padding": null,
            "right": null,
            "top": null,
            "visibility": null,
            "width": null
          }
        },
        "668a3babd6b84df5810f88ae7e0a6bdc": {
          "model_module": "@jupyter-widgets/base",
          "model_name": "LayoutModel",
          "model_module_version": "1.2.0",
          "state": {
            "_model_module": "@jupyter-widgets/base",
            "_model_module_version": "1.2.0",
            "_model_name": "LayoutModel",
            "_view_count": null,
            "_view_module": "@jupyter-widgets/base",
            "_view_module_version": "1.2.0",
            "_view_name": "LayoutView",
            "align_content": null,
            "align_items": null,
            "align_self": null,
            "border": null,
            "bottom": null,
            "display": null,
            "flex": null,
            "flex_flow": null,
            "grid_area": null,
            "grid_auto_columns": null,
            "grid_auto_flow": null,
            "grid_auto_rows": null,
            "grid_column": null,
            "grid_gap": null,
            "grid_row": null,
            "grid_template_areas": null,
            "grid_template_columns": null,
            "grid_template_rows": null,
            "height": null,
            "justify_content": null,
            "justify_items": null,
            "left": null,
            "margin": null,
            "max_height": null,
            "max_width": null,
            "min_height": null,
            "min_width": null,
            "object_fit": null,
            "object_position": null,
            "order": null,
            "overflow": null,
            "overflow_x": null,
            "overflow_y": null,
            "padding": null,
            "right": null,
            "top": null,
            "visibility": null,
            "width": null
          }
        },
        "0f9b29db25a84f07b2d414cc8c7c19e1": {
          "model_module": "@jupyter-widgets/controls",
          "model_name": "DescriptionStyleModel",
          "model_module_version": "1.5.0",
          "state": {
            "_model_module": "@jupyter-widgets/controls",
            "_model_module_version": "1.5.0",
            "_model_name": "DescriptionStyleModel",
            "_view_count": null,
            "_view_module": "@jupyter-widgets/base",
            "_view_module_version": "1.2.0",
            "_view_name": "StyleView",
            "description_width": ""
          }
        },
        "fcaccdf28bce49d7a0e24e06aeed325d": {
          "model_module": "@jupyter-widgets/base",
          "model_name": "LayoutModel",
          "model_module_version": "1.2.0",
          "state": {
            "_model_module": "@jupyter-widgets/base",
            "_model_module_version": "1.2.0",
            "_model_name": "LayoutModel",
            "_view_count": null,
            "_view_module": "@jupyter-widgets/base",
            "_view_module_version": "1.2.0",
            "_view_name": "LayoutView",
            "align_content": null,
            "align_items": null,
            "align_self": null,
            "border": null,
            "bottom": null,
            "display": null,
            "flex": null,
            "flex_flow": null,
            "grid_area": null,
            "grid_auto_columns": null,
            "grid_auto_flow": null,
            "grid_auto_rows": null,
            "grid_column": null,
            "grid_gap": null,
            "grid_row": null,
            "grid_template_areas": null,
            "grid_template_columns": null,
            "grid_template_rows": null,
            "height": null,
            "justify_content": null,
            "justify_items": null,
            "left": null,
            "margin": null,
            "max_height": null,
            "max_width": null,
            "min_height": null,
            "min_width": null,
            "object_fit": null,
            "object_position": null,
            "order": null,
            "overflow": null,
            "overflow_x": null,
            "overflow_y": null,
            "padding": null,
            "right": null,
            "top": null,
            "visibility": null,
            "width": null
          }
        },
        "17118287e07843568f729fb4dc92e272": {
          "model_module": "@jupyter-widgets/controls",
          "model_name": "ProgressStyleModel",
          "model_module_version": "1.5.0",
          "state": {
            "_model_module": "@jupyter-widgets/controls",
            "_model_module_version": "1.5.0",
            "_model_name": "ProgressStyleModel",
            "_view_count": null,
            "_view_module": "@jupyter-widgets/base",
            "_view_module_version": "1.2.0",
            "_view_name": "StyleView",
            "bar_color": null,
            "description_width": ""
          }
        },
        "8c917301d79f4eefad02f7874fbc964c": {
          "model_module": "@jupyter-widgets/base",
          "model_name": "LayoutModel",
          "model_module_version": "1.2.0",
          "state": {
            "_model_module": "@jupyter-widgets/base",
            "_model_module_version": "1.2.0",
            "_model_name": "LayoutModel",
            "_view_count": null,
            "_view_module": "@jupyter-widgets/base",
            "_view_module_version": "1.2.0",
            "_view_name": "LayoutView",
            "align_content": null,
            "align_items": null,
            "align_self": null,
            "border": null,
            "bottom": null,
            "display": null,
            "flex": null,
            "flex_flow": null,
            "grid_area": null,
            "grid_auto_columns": null,
            "grid_auto_flow": null,
            "grid_auto_rows": null,
            "grid_column": null,
            "grid_gap": null,
            "grid_row": null,
            "grid_template_areas": null,
            "grid_template_columns": null,
            "grid_template_rows": null,
            "height": null,
            "justify_content": null,
            "justify_items": null,
            "left": null,
            "margin": null,
            "max_height": null,
            "max_width": null,
            "min_height": null,
            "min_width": null,
            "object_fit": null,
            "object_position": null,
            "order": null,
            "overflow": null,
            "overflow_x": null,
            "overflow_y": null,
            "padding": null,
            "right": null,
            "top": null,
            "visibility": null,
            "width": null
          }
        },
        "900afa9053064c53b982148ef3ed3e39": {
          "model_module": "@jupyter-widgets/controls",
          "model_name": "DescriptionStyleModel",
          "model_module_version": "1.5.0",
          "state": {
            "_model_module": "@jupyter-widgets/controls",
            "_model_module_version": "1.5.0",
            "_model_name": "DescriptionStyleModel",
            "_view_count": null,
            "_view_module": "@jupyter-widgets/base",
            "_view_module_version": "1.2.0",
            "_view_name": "StyleView",
            "description_width": ""
          }
        },
        "afefe0bf86974148ac4966ab9edf72f2": {
          "model_module": "@jupyter-widgets/controls",
          "model_name": "HBoxModel",
          "model_module_version": "1.5.0",
          "state": {
            "_dom_classes": [],
            "_model_module": "@jupyter-widgets/controls",
            "_model_module_version": "1.5.0",
            "_model_name": "HBoxModel",
            "_view_count": null,
            "_view_module": "@jupyter-widgets/controls",
            "_view_module_version": "1.5.0",
            "_view_name": "HBoxView",
            "box_style": "",
            "children": [
              "IPY_MODEL_56773d6a1b4d415d96be31bbfff3c8c5",
              "IPY_MODEL_36888b5bc001460d92277a2afa0fe178",
              "IPY_MODEL_cbfa393d734f4abb8996841476674844"
            ],
            "layout": "IPY_MODEL_ba94757730334001a82e84f1a223d691"
          }
        },
        "56773d6a1b4d415d96be31bbfff3c8c5": {
          "model_module": "@jupyter-widgets/controls",
          "model_name": "HTMLModel",
          "model_module_version": "1.5.0",
          "state": {
            "_dom_classes": [],
            "_model_module": "@jupyter-widgets/controls",
            "_model_module_version": "1.5.0",
            "_model_name": "HTMLModel",
            "_view_count": null,
            "_view_module": "@jupyter-widgets/controls",
            "_view_module_version": "1.5.0",
            "_view_name": "HTMLView",
            "description": "",
            "description_tooltip": null,
            "layout": "IPY_MODEL_26d75f2a637d4087b65b774401bc7acb",
            "placeholder": "​",
            "style": "IPY_MODEL_4fe7cc782f034ccc9866f0809ffd4d91",
            "value": "generation_config.json: 100%"
          }
        },
        "36888b5bc001460d92277a2afa0fe178": {
          "model_module": "@jupyter-widgets/controls",
          "model_name": "FloatProgressModel",
          "model_module_version": "1.5.0",
          "state": {
            "_dom_classes": [],
            "_model_module": "@jupyter-widgets/controls",
            "_model_module_version": "1.5.0",
            "_model_name": "FloatProgressModel",
            "_view_count": null,
            "_view_module": "@jupyter-widgets/controls",
            "_view_module_version": "1.5.0",
            "_view_name": "ProgressView",
            "bar_style": "success",
            "description": "",
            "description_tooltip": null,
            "layout": "IPY_MODEL_e3f2baad9a264c1587f05cf507d662c2",
            "max": 189,
            "min": 0,
            "orientation": "horizontal",
            "style": "IPY_MODEL_86fb9d8048b944b191f1aa8c8d5f0256",
            "value": 189
          }
        },
        "cbfa393d734f4abb8996841476674844": {
          "model_module": "@jupyter-widgets/controls",
          "model_name": "HTMLModel",
          "model_module_version": "1.5.0",
          "state": {
            "_dom_classes": [],
            "_model_module": "@jupyter-widgets/controls",
            "_model_module_version": "1.5.0",
            "_model_name": "HTMLModel",
            "_view_count": null,
            "_view_module": "@jupyter-widgets/controls",
            "_view_module_version": "1.5.0",
            "_view_name": "HTMLView",
            "description": "",
            "description_tooltip": null,
            "layout": "IPY_MODEL_418ce387bf17472c801e3a71aae8b880",
            "placeholder": "​",
            "style": "IPY_MODEL_8faa0936159a4617b23401b3e2f8bca9",
            "value": " 189/189 [00:00&lt;00:00, 13.0kB/s]"
          }
        },
        "ba94757730334001a82e84f1a223d691": {
          "model_module": "@jupyter-widgets/base",
          "model_name": "LayoutModel",
          "model_module_version": "1.2.0",
          "state": {
            "_model_module": "@jupyter-widgets/base",
            "_model_module_version": "1.2.0",
            "_model_name": "LayoutModel",
            "_view_count": null,
            "_view_module": "@jupyter-widgets/base",
            "_view_module_version": "1.2.0",
            "_view_name": "LayoutView",
            "align_content": null,
            "align_items": null,
            "align_self": null,
            "border": null,
            "bottom": null,
            "display": null,
            "flex": null,
            "flex_flow": null,
            "grid_area": null,
            "grid_auto_columns": null,
            "grid_auto_flow": null,
            "grid_auto_rows": null,
            "grid_column": null,
            "grid_gap": null,
            "grid_row": null,
            "grid_template_areas": null,
            "grid_template_columns": null,
            "grid_template_rows": null,
            "height": null,
            "justify_content": null,
            "justify_items": null,
            "left": null,
            "margin": null,
            "max_height": null,
            "max_width": null,
            "min_height": null,
            "min_width": null,
            "object_fit": null,
            "object_position": null,
            "order": null,
            "overflow": null,
            "overflow_x": null,
            "overflow_y": null,
            "padding": null,
            "right": null,
            "top": null,
            "visibility": null,
            "width": null
          }
        },
        "26d75f2a637d4087b65b774401bc7acb": {
          "model_module": "@jupyter-widgets/base",
          "model_name": "LayoutModel",
          "model_module_version": "1.2.0",
          "state": {
            "_model_module": "@jupyter-widgets/base",
            "_model_module_version": "1.2.0",
            "_model_name": "LayoutModel",
            "_view_count": null,
            "_view_module": "@jupyter-widgets/base",
            "_view_module_version": "1.2.0",
            "_view_name": "LayoutView",
            "align_content": null,
            "align_items": null,
            "align_self": null,
            "border": null,
            "bottom": null,
            "display": null,
            "flex": null,
            "flex_flow": null,
            "grid_area": null,
            "grid_auto_columns": null,
            "grid_auto_flow": null,
            "grid_auto_rows": null,
            "grid_column": null,
            "grid_gap": null,
            "grid_row": null,
            "grid_template_areas": null,
            "grid_template_columns": null,
            "grid_template_rows": null,
            "height": null,
            "justify_content": null,
            "justify_items": null,
            "left": null,
            "margin": null,
            "max_height": null,
            "max_width": null,
            "min_height": null,
            "min_width": null,
            "object_fit": null,
            "object_position": null,
            "order": null,
            "overflow": null,
            "overflow_x": null,
            "overflow_y": null,
            "padding": null,
            "right": null,
            "top": null,
            "visibility": null,
            "width": null
          }
        },
        "4fe7cc782f034ccc9866f0809ffd4d91": {
          "model_module": "@jupyter-widgets/controls",
          "model_name": "DescriptionStyleModel",
          "model_module_version": "1.5.0",
          "state": {
            "_model_module": "@jupyter-widgets/controls",
            "_model_module_version": "1.5.0",
            "_model_name": "DescriptionStyleModel",
            "_view_count": null,
            "_view_module": "@jupyter-widgets/base",
            "_view_module_version": "1.2.0",
            "_view_name": "StyleView",
            "description_width": ""
          }
        },
        "e3f2baad9a264c1587f05cf507d662c2": {
          "model_module": "@jupyter-widgets/base",
          "model_name": "LayoutModel",
          "model_module_version": "1.2.0",
          "state": {
            "_model_module": "@jupyter-widgets/base",
            "_model_module_version": "1.2.0",
            "_model_name": "LayoutModel",
            "_view_count": null,
            "_view_module": "@jupyter-widgets/base",
            "_view_module_version": "1.2.0",
            "_view_name": "LayoutView",
            "align_content": null,
            "align_items": null,
            "align_self": null,
            "border": null,
            "bottom": null,
            "display": null,
            "flex": null,
            "flex_flow": null,
            "grid_area": null,
            "grid_auto_columns": null,
            "grid_auto_flow": null,
            "grid_auto_rows": null,
            "grid_column": null,
            "grid_gap": null,
            "grid_row": null,
            "grid_template_areas": null,
            "grid_template_columns": null,
            "grid_template_rows": null,
            "height": null,
            "justify_content": null,
            "justify_items": null,
            "left": null,
            "margin": null,
            "max_height": null,
            "max_width": null,
            "min_height": null,
            "min_width": null,
            "object_fit": null,
            "object_position": null,
            "order": null,
            "overflow": null,
            "overflow_x": null,
            "overflow_y": null,
            "padding": null,
            "right": null,
            "top": null,
            "visibility": null,
            "width": null
          }
        },
        "86fb9d8048b944b191f1aa8c8d5f0256": {
          "model_module": "@jupyter-widgets/controls",
          "model_name": "ProgressStyleModel",
          "model_module_version": "1.5.0",
          "state": {
            "_model_module": "@jupyter-widgets/controls",
            "_model_module_version": "1.5.0",
            "_model_name": "ProgressStyleModel",
            "_view_count": null,
            "_view_module": "@jupyter-widgets/base",
            "_view_module_version": "1.2.0",
            "_view_name": "StyleView",
            "bar_color": null,
            "description_width": ""
          }
        },
        "418ce387bf17472c801e3a71aae8b880": {
          "model_module": "@jupyter-widgets/base",
          "model_name": "LayoutModel",
          "model_module_version": "1.2.0",
          "state": {
            "_model_module": "@jupyter-widgets/base",
            "_model_module_version": "1.2.0",
            "_model_name": "LayoutModel",
            "_view_count": null,
            "_view_module": "@jupyter-widgets/base",
            "_view_module_version": "1.2.0",
            "_view_name": "LayoutView",
            "align_content": null,
            "align_items": null,
            "align_self": null,
            "border": null,
            "bottom": null,
            "display": null,
            "flex": null,
            "flex_flow": null,
            "grid_area": null,
            "grid_auto_columns": null,
            "grid_auto_flow": null,
            "grid_auto_rows": null,
            "grid_column": null,
            "grid_gap": null,
            "grid_row": null,
            "grid_template_areas": null,
            "grid_template_columns": null,
            "grid_template_rows": null,
            "height": null,
            "justify_content": null,
            "justify_items": null,
            "left": null,
            "margin": null,
            "max_height": null,
            "max_width": null,
            "min_height": null,
            "min_width": null,
            "object_fit": null,
            "object_position": null,
            "order": null,
            "overflow": null,
            "overflow_x": null,
            "overflow_y": null,
            "padding": null,
            "right": null,
            "top": null,
            "visibility": null,
            "width": null
          }
        },
        "8faa0936159a4617b23401b3e2f8bca9": {
          "model_module": "@jupyter-widgets/controls",
          "model_name": "DescriptionStyleModel",
          "model_module_version": "1.5.0",
          "state": {
            "_model_module": "@jupyter-widgets/controls",
            "_model_module_version": "1.5.0",
            "_model_name": "DescriptionStyleModel",
            "_view_count": null,
            "_view_module": "@jupyter-widgets/base",
            "_view_module_version": "1.2.0",
            "_view_name": "StyleView",
            "description_width": ""
          }
        },
        "1107f8e40f344cfb98db4eb12f04aaa2": {
          "model_module": "@jupyter-widgets/controls",
          "model_name": "HBoxModel",
          "model_module_version": "1.5.0",
          "state": {
            "_dom_classes": [],
            "_model_module": "@jupyter-widgets/controls",
            "_model_module_version": "1.5.0",
            "_model_name": "HBoxModel",
            "_view_count": null,
            "_view_module": "@jupyter-widgets/controls",
            "_view_module_version": "1.5.0",
            "_view_name": "HBoxView",
            "box_style": "",
            "children": [
              "IPY_MODEL_c7f2004df6394fc5acf9dd42a161275e",
              "IPY_MODEL_e3faff28a4694e59944d4ce2163c2478",
              "IPY_MODEL_6bf9bda259a647e9a1461d3bb9236e39"
            ],
            "layout": "IPY_MODEL_2fc13ed8541849a28e42963be3d874b7"
          }
        },
        "c7f2004df6394fc5acf9dd42a161275e": {
          "model_module": "@jupyter-widgets/controls",
          "model_name": "HTMLModel",
          "model_module_version": "1.5.0",
          "state": {
            "_dom_classes": [],
            "_model_module": "@jupyter-widgets/controls",
            "_model_module_version": "1.5.0",
            "_model_name": "HTMLModel",
            "_view_count": null,
            "_view_module": "@jupyter-widgets/controls",
            "_view_module_version": "1.5.0",
            "_view_name": "HTMLView",
            "description": "",
            "description_tooltip": null,
            "layout": "IPY_MODEL_aa1ee5b9cd4e4ee4a535113025ee1b61",
            "placeholder": "​",
            "style": "IPY_MODEL_2be425fd2aa0409781cf4dde88108ac2",
            "value": "tokenizer_config.json: 100%"
          }
        },
        "e3faff28a4694e59944d4ce2163c2478": {
          "model_module": "@jupyter-widgets/controls",
          "model_name": "FloatProgressModel",
          "model_module_version": "1.5.0",
          "state": {
            "_dom_classes": [],
            "_model_module": "@jupyter-widgets/controls",
            "_model_module_version": "1.5.0",
            "_model_name": "FloatProgressModel",
            "_view_count": null,
            "_view_module": "@jupyter-widgets/controls",
            "_view_module_version": "1.5.0",
            "_view_name": "ProgressView",
            "bar_style": "success",
            "description": "",
            "description_tooltip": null,
            "layout": "IPY_MODEL_d3feed367b2e4f298bbddbe08b1cc895",
            "max": 54528,
            "min": 0,
            "orientation": "horizontal",
            "style": "IPY_MODEL_2270bee7dcc84f20806f499c52f1869d",
            "value": 54528
          }
        },
        "6bf9bda259a647e9a1461d3bb9236e39": {
          "model_module": "@jupyter-widgets/controls",
          "model_name": "HTMLModel",
          "model_module_version": "1.5.0",
          "state": {
            "_dom_classes": [],
            "_model_module": "@jupyter-widgets/controls",
            "_model_module_version": "1.5.0",
            "_model_name": "HTMLModel",
            "_view_count": null,
            "_view_module": "@jupyter-widgets/controls",
            "_view_module_version": "1.5.0",
            "_view_name": "HTMLView",
            "description": "",
            "description_tooltip": null,
            "layout": "IPY_MODEL_f85bddce2b154a9e8566cc7ec64d49ec",
            "placeholder": "​",
            "style": "IPY_MODEL_1b1049aa7889452d9b75b7ff28e29830",
            "value": " 54.5k/54.5k [00:00&lt;00:00, 2.85MB/s]"
          }
        },
        "2fc13ed8541849a28e42963be3d874b7": {
          "model_module": "@jupyter-widgets/base",
          "model_name": "LayoutModel",
          "model_module_version": "1.2.0",
          "state": {
            "_model_module": "@jupyter-widgets/base",
            "_model_module_version": "1.2.0",
            "_model_name": "LayoutModel",
            "_view_count": null,
            "_view_module": "@jupyter-widgets/base",
            "_view_module_version": "1.2.0",
            "_view_name": "LayoutView",
            "align_content": null,
            "align_items": null,
            "align_self": null,
            "border": null,
            "bottom": null,
            "display": null,
            "flex": null,
            "flex_flow": null,
            "grid_area": null,
            "grid_auto_columns": null,
            "grid_auto_flow": null,
            "grid_auto_rows": null,
            "grid_column": null,
            "grid_gap": null,
            "grid_row": null,
            "grid_template_areas": null,
            "grid_template_columns": null,
            "grid_template_rows": null,
            "height": null,
            "justify_content": null,
            "justify_items": null,
            "left": null,
            "margin": null,
            "max_height": null,
            "max_width": null,
            "min_height": null,
            "min_width": null,
            "object_fit": null,
            "object_position": null,
            "order": null,
            "overflow": null,
            "overflow_x": null,
            "overflow_y": null,
            "padding": null,
            "right": null,
            "top": null,
            "visibility": null,
            "width": null
          }
        },
        "aa1ee5b9cd4e4ee4a535113025ee1b61": {
          "model_module": "@jupyter-widgets/base",
          "model_name": "LayoutModel",
          "model_module_version": "1.2.0",
          "state": {
            "_model_module": "@jupyter-widgets/base",
            "_model_module_version": "1.2.0",
            "_model_name": "LayoutModel",
            "_view_count": null,
            "_view_module": "@jupyter-widgets/base",
            "_view_module_version": "1.2.0",
            "_view_name": "LayoutView",
            "align_content": null,
            "align_items": null,
            "align_self": null,
            "border": null,
            "bottom": null,
            "display": null,
            "flex": null,
            "flex_flow": null,
            "grid_area": null,
            "grid_auto_columns": null,
            "grid_auto_flow": null,
            "grid_auto_rows": null,
            "grid_column": null,
            "grid_gap": null,
            "grid_row": null,
            "grid_template_areas": null,
            "grid_template_columns": null,
            "grid_template_rows": null,
            "height": null,
            "justify_content": null,
            "justify_items": null,
            "left": null,
            "margin": null,
            "max_height": null,
            "max_width": null,
            "min_height": null,
            "min_width": null,
            "object_fit": null,
            "object_position": null,
            "order": null,
            "overflow": null,
            "overflow_x": null,
            "overflow_y": null,
            "padding": null,
            "right": null,
            "top": null,
            "visibility": null,
            "width": null
          }
        },
        "2be425fd2aa0409781cf4dde88108ac2": {
          "model_module": "@jupyter-widgets/controls",
          "model_name": "DescriptionStyleModel",
          "model_module_version": "1.5.0",
          "state": {
            "_model_module": "@jupyter-widgets/controls",
            "_model_module_version": "1.5.0",
            "_model_name": "DescriptionStyleModel",
            "_view_count": null,
            "_view_module": "@jupyter-widgets/base",
            "_view_module_version": "1.2.0",
            "_view_name": "StyleView",
            "description_width": ""
          }
        },
        "d3feed367b2e4f298bbddbe08b1cc895": {
          "model_module": "@jupyter-widgets/base",
          "model_name": "LayoutModel",
          "model_module_version": "1.2.0",
          "state": {
            "_model_module": "@jupyter-widgets/base",
            "_model_module_version": "1.2.0",
            "_model_name": "LayoutModel",
            "_view_count": null,
            "_view_module": "@jupyter-widgets/base",
            "_view_module_version": "1.2.0",
            "_view_name": "LayoutView",
            "align_content": null,
            "align_items": null,
            "align_self": null,
            "border": null,
            "bottom": null,
            "display": null,
            "flex": null,
            "flex_flow": null,
            "grid_area": null,
            "grid_auto_columns": null,
            "grid_auto_flow": null,
            "grid_auto_rows": null,
            "grid_column": null,
            "grid_gap": null,
            "grid_row": null,
            "grid_template_areas": null,
            "grid_template_columns": null,
            "grid_template_rows": null,
            "height": null,
            "justify_content": null,
            "justify_items": null,
            "left": null,
            "margin": null,
            "max_height": null,
            "max_width": null,
            "min_height": null,
            "min_width": null,
            "object_fit": null,
            "object_position": null,
            "order": null,
            "overflow": null,
            "overflow_x": null,
            "overflow_y": null,
            "padding": null,
            "right": null,
            "top": null,
            "visibility": null,
            "width": null
          }
        },
        "2270bee7dcc84f20806f499c52f1869d": {
          "model_module": "@jupyter-widgets/controls",
          "model_name": "ProgressStyleModel",
          "model_module_version": "1.5.0",
          "state": {
            "_model_module": "@jupyter-widgets/controls",
            "_model_module_version": "1.5.0",
            "_model_name": "ProgressStyleModel",
            "_view_count": null,
            "_view_module": "@jupyter-widgets/base",
            "_view_module_version": "1.2.0",
            "_view_name": "StyleView",
            "bar_color": null,
            "description_width": ""
          }
        },
        "f85bddce2b154a9e8566cc7ec64d49ec": {
          "model_module": "@jupyter-widgets/base",
          "model_name": "LayoutModel",
          "model_module_version": "1.2.0",
          "state": {
            "_model_module": "@jupyter-widgets/base",
            "_model_module_version": "1.2.0",
            "_model_name": "LayoutModel",
            "_view_count": null,
            "_view_module": "@jupyter-widgets/base",
            "_view_module_version": "1.2.0",
            "_view_name": "LayoutView",
            "align_content": null,
            "align_items": null,
            "align_self": null,
            "border": null,
            "bottom": null,
            "display": null,
            "flex": null,
            "flex_flow": null,
            "grid_area": null,
            "grid_auto_columns": null,
            "grid_auto_flow": null,
            "grid_auto_rows": null,
            "grid_column": null,
            "grid_gap": null,
            "grid_row": null,
            "grid_template_areas": null,
            "grid_template_columns": null,
            "grid_template_rows": null,
            "height": null,
            "justify_content": null,
            "justify_items": null,
            "left": null,
            "margin": null,
            "max_height": null,
            "max_width": null,
            "min_height": null,
            "min_width": null,
            "object_fit": null,
            "object_position": null,
            "order": null,
            "overflow": null,
            "overflow_x": null,
            "overflow_y": null,
            "padding": null,
            "right": null,
            "top": null,
            "visibility": null,
            "width": null
          }
        },
        "1b1049aa7889452d9b75b7ff28e29830": {
          "model_module": "@jupyter-widgets/controls",
          "model_name": "DescriptionStyleModel",
          "model_module_version": "1.5.0",
          "state": {
            "_model_module": "@jupyter-widgets/controls",
            "_model_module_version": "1.5.0",
            "_model_name": "DescriptionStyleModel",
            "_view_count": null,
            "_view_module": "@jupyter-widgets/base",
            "_view_module_version": "1.2.0",
            "_view_name": "StyleView",
            "description_width": ""
          }
        },
        "bcd4a3fc643742289f5668ec88df77c9": {
          "model_module": "@jupyter-widgets/controls",
          "model_name": "HBoxModel",
          "model_module_version": "1.5.0",
          "state": {
            "_dom_classes": [],
            "_model_module": "@jupyter-widgets/controls",
            "_model_module_version": "1.5.0",
            "_model_name": "HBoxModel",
            "_view_count": null,
            "_view_module": "@jupyter-widgets/controls",
            "_view_module_version": "1.5.0",
            "_view_name": "HBoxView",
            "box_style": "",
            "children": [
              "IPY_MODEL_7e2d0fcfaeae41c59ed806ca8757aba2",
              "IPY_MODEL_3af767b0c3c1488cb963918f699fdc28",
              "IPY_MODEL_f0cfe6d8a6db4109a157de2f393b5fb8"
            ],
            "layout": "IPY_MODEL_27eca47a22db465a859cf004bf2ec5a6"
          }
        },
        "7e2d0fcfaeae41c59ed806ca8757aba2": {
          "model_module": "@jupyter-widgets/controls",
          "model_name": "HTMLModel",
          "model_module_version": "1.5.0",
          "state": {
            "_dom_classes": [],
            "_model_module": "@jupyter-widgets/controls",
            "_model_module_version": "1.5.0",
            "_model_name": "HTMLModel",
            "_view_count": null,
            "_view_module": "@jupyter-widgets/controls",
            "_view_module_version": "1.5.0",
            "_view_name": "HTMLView",
            "description": "",
            "description_tooltip": null,
            "layout": "IPY_MODEL_8a62ee9bb66d45ff92ebf0dd21ce19ef",
            "placeholder": "​",
            "style": "IPY_MODEL_276b2bb0c1154e13b6d1ea20967a87d9",
            "value": "tokenizer.json: 100%"
          }
        },
        "3af767b0c3c1488cb963918f699fdc28": {
          "model_module": "@jupyter-widgets/controls",
          "model_name": "FloatProgressModel",
          "model_module_version": "1.5.0",
          "state": {
            "_dom_classes": [],
            "_model_module": "@jupyter-widgets/controls",
            "_model_module_version": "1.5.0",
            "_model_name": "FloatProgressModel",
            "_view_count": null,
            "_view_module": "@jupyter-widgets/controls",
            "_view_module_version": "1.5.0",
            "_view_name": "ProgressView",
            "bar_style": "success",
            "description": "",
            "description_tooltip": null,
            "layout": "IPY_MODEL_0178c17a832e41a4b0b3b2cc35ec6579",
            "max": 9085657,
            "min": 0,
            "orientation": "horizontal",
            "style": "IPY_MODEL_a04b6e194b92470aa8e52c22176187b3",
            "value": 9085657
          }
        },
        "f0cfe6d8a6db4109a157de2f393b5fb8": {
          "model_module": "@jupyter-widgets/controls",
          "model_name": "HTMLModel",
          "model_module_version": "1.5.0",
          "state": {
            "_dom_classes": [],
            "_model_module": "@jupyter-widgets/controls",
            "_model_module_version": "1.5.0",
            "_model_name": "HTMLModel",
            "_view_count": null,
            "_view_module": "@jupyter-widgets/controls",
            "_view_module_version": "1.5.0",
            "_view_name": "HTMLView",
            "description": "",
            "description_tooltip": null,
            "layout": "IPY_MODEL_d697faf3ffe9472aadd167a8a09c2657",
            "placeholder": "​",
            "style": "IPY_MODEL_c9970ccfa4224720a6faca694fd92332",
            "value": " 9.09M/9.09M [00:00&lt;00:00, 15.7MB/s]"
          }
        },
        "27eca47a22db465a859cf004bf2ec5a6": {
          "model_module": "@jupyter-widgets/base",
          "model_name": "LayoutModel",
          "model_module_version": "1.2.0",
          "state": {
            "_model_module": "@jupyter-widgets/base",
            "_model_module_version": "1.2.0",
            "_model_name": "LayoutModel",
            "_view_count": null,
            "_view_module": "@jupyter-widgets/base",
            "_view_module_version": "1.2.0",
            "_view_name": "LayoutView",
            "align_content": null,
            "align_items": null,
            "align_self": null,
            "border": null,
            "bottom": null,
            "display": null,
            "flex": null,
            "flex_flow": null,
            "grid_area": null,
            "grid_auto_columns": null,
            "grid_auto_flow": null,
            "grid_auto_rows": null,
            "grid_column": null,
            "grid_gap": null,
            "grid_row": null,
            "grid_template_areas": null,
            "grid_template_columns": null,
            "grid_template_rows": null,
            "height": null,
            "justify_content": null,
            "justify_items": null,
            "left": null,
            "margin": null,
            "max_height": null,
            "max_width": null,
            "min_height": null,
            "min_width": null,
            "object_fit": null,
            "object_position": null,
            "order": null,
            "overflow": null,
            "overflow_x": null,
            "overflow_y": null,
            "padding": null,
            "right": null,
            "top": null,
            "visibility": null,
            "width": null
          }
        },
        "8a62ee9bb66d45ff92ebf0dd21ce19ef": {
          "model_module": "@jupyter-widgets/base",
          "model_name": "LayoutModel",
          "model_module_version": "1.2.0",
          "state": {
            "_model_module": "@jupyter-widgets/base",
            "_model_module_version": "1.2.0",
            "_model_name": "LayoutModel",
            "_view_count": null,
            "_view_module": "@jupyter-widgets/base",
            "_view_module_version": "1.2.0",
            "_view_name": "LayoutView",
            "align_content": null,
            "align_items": null,
            "align_self": null,
            "border": null,
            "bottom": null,
            "display": null,
            "flex": null,
            "flex_flow": null,
            "grid_area": null,
            "grid_auto_columns": null,
            "grid_auto_flow": null,
            "grid_auto_rows": null,
            "grid_column": null,
            "grid_gap": null,
            "grid_row": null,
            "grid_template_areas": null,
            "grid_template_columns": null,
            "grid_template_rows": null,
            "height": null,
            "justify_content": null,
            "justify_items": null,
            "left": null,
            "margin": null,
            "max_height": null,
            "max_width": null,
            "min_height": null,
            "min_width": null,
            "object_fit": null,
            "object_position": null,
            "order": null,
            "overflow": null,
            "overflow_x": null,
            "overflow_y": null,
            "padding": null,
            "right": null,
            "top": null,
            "visibility": null,
            "width": null
          }
        },
        "276b2bb0c1154e13b6d1ea20967a87d9": {
          "model_module": "@jupyter-widgets/controls",
          "model_name": "DescriptionStyleModel",
          "model_module_version": "1.5.0",
          "state": {
            "_model_module": "@jupyter-widgets/controls",
            "_model_module_version": "1.5.0",
            "_model_name": "DescriptionStyleModel",
            "_view_count": null,
            "_view_module": "@jupyter-widgets/base",
            "_view_module_version": "1.2.0",
            "_view_name": "StyleView",
            "description_width": ""
          }
        },
        "0178c17a832e41a4b0b3b2cc35ec6579": {
          "model_module": "@jupyter-widgets/base",
          "model_name": "LayoutModel",
          "model_module_version": "1.2.0",
          "state": {
            "_model_module": "@jupyter-widgets/base",
            "_model_module_version": "1.2.0",
            "_model_name": "LayoutModel",
            "_view_count": null,
            "_view_module": "@jupyter-widgets/base",
            "_view_module_version": "1.2.0",
            "_view_name": "LayoutView",
            "align_content": null,
            "align_items": null,
            "align_self": null,
            "border": null,
            "bottom": null,
            "display": null,
            "flex": null,
            "flex_flow": null,
            "grid_area": null,
            "grid_auto_columns": null,
            "grid_auto_flow": null,
            "grid_auto_rows": null,
            "grid_column": null,
            "grid_gap": null,
            "grid_row": null,
            "grid_template_areas": null,
            "grid_template_columns": null,
            "grid_template_rows": null,
            "height": null,
            "justify_content": null,
            "justify_items": null,
            "left": null,
            "margin": null,
            "max_height": null,
            "max_width": null,
            "min_height": null,
            "min_width": null,
            "object_fit": null,
            "object_position": null,
            "order": null,
            "overflow": null,
            "overflow_x": null,
            "overflow_y": null,
            "padding": null,
            "right": null,
            "top": null,
            "visibility": null,
            "width": null
          }
        },
        "a04b6e194b92470aa8e52c22176187b3": {
          "model_module": "@jupyter-widgets/controls",
          "model_name": "ProgressStyleModel",
          "model_module_version": "1.5.0",
          "state": {
            "_model_module": "@jupyter-widgets/controls",
            "_model_module_version": "1.5.0",
            "_model_name": "ProgressStyleModel",
            "_view_count": null,
            "_view_module": "@jupyter-widgets/base",
            "_view_module_version": "1.2.0",
            "_view_name": "StyleView",
            "bar_color": null,
            "description_width": ""
          }
        },
        "d697faf3ffe9472aadd167a8a09c2657": {
          "model_module": "@jupyter-widgets/base",
          "model_name": "LayoutModel",
          "model_module_version": "1.2.0",
          "state": {
            "_model_module": "@jupyter-widgets/base",
            "_model_module_version": "1.2.0",
            "_model_name": "LayoutModel",
            "_view_count": null,
            "_view_module": "@jupyter-widgets/base",
            "_view_module_version": "1.2.0",
            "_view_name": "LayoutView",
            "align_content": null,
            "align_items": null,
            "align_self": null,
            "border": null,
            "bottom": null,
            "display": null,
            "flex": null,
            "flex_flow": null,
            "grid_area": null,
            "grid_auto_columns": null,
            "grid_auto_flow": null,
            "grid_auto_rows": null,
            "grid_column": null,
            "grid_gap": null,
            "grid_row": null,
            "grid_template_areas": null,
            "grid_template_columns": null,
            "grid_template_rows": null,
            "height": null,
            "justify_content": null,
            "justify_items": null,
            "left": null,
            "margin": null,
            "max_height": null,
            "max_width": null,
            "min_height": null,
            "min_width": null,
            "object_fit": null,
            "object_position": null,
            "order": null,
            "overflow": null,
            "overflow_x": null,
            "overflow_y": null,
            "padding": null,
            "right": null,
            "top": null,
            "visibility": null,
            "width": null
          }
        },
        "c9970ccfa4224720a6faca694fd92332": {
          "model_module": "@jupyter-widgets/controls",
          "model_name": "DescriptionStyleModel",
          "model_module_version": "1.5.0",
          "state": {
            "_model_module": "@jupyter-widgets/controls",
            "_model_module_version": "1.5.0",
            "_model_name": "DescriptionStyleModel",
            "_view_count": null,
            "_view_module": "@jupyter-widgets/base",
            "_view_module_version": "1.2.0",
            "_view_name": "StyleView",
            "description_width": ""
          }
        },
        "96592b4d8c3344c2a54d144b9387020b": {
          "model_module": "@jupyter-widgets/controls",
          "model_name": "HBoxModel",
          "model_module_version": "1.5.0",
          "state": {
            "_dom_classes": [],
            "_model_module": "@jupyter-widgets/controls",
            "_model_module_version": "1.5.0",
            "_model_name": "HBoxModel",
            "_view_count": null,
            "_view_module": "@jupyter-widgets/controls",
            "_view_module_version": "1.5.0",
            "_view_name": "HBoxView",
            "box_style": "",
            "children": [
              "IPY_MODEL_e5a0e8814c9140d78b00e77d08577a12",
              "IPY_MODEL_f8efe253c88b4b9d928d12d713bdd210",
              "IPY_MODEL_1bda0d95f0014a2884ef2deb53c4e5a0"
            ],
            "layout": "IPY_MODEL_3334f32320804cbab2a2de374698daf3"
          }
        },
        "e5a0e8814c9140d78b00e77d08577a12": {
          "model_module": "@jupyter-widgets/controls",
          "model_name": "HTMLModel",
          "model_module_version": "1.5.0",
          "state": {
            "_dom_classes": [],
            "_model_module": "@jupyter-widgets/controls",
            "_model_module_version": "1.5.0",
            "_model_name": "HTMLModel",
            "_view_count": null,
            "_view_module": "@jupyter-widgets/controls",
            "_view_module_version": "1.5.0",
            "_view_name": "HTMLView",
            "description": "",
            "description_tooltip": null,
            "layout": "IPY_MODEL_9b6e55839c014c5f97500fd48c6c1b39",
            "placeholder": "​",
            "style": "IPY_MODEL_8b60dc5fffec49c8a4ca0881c3fdfdaf",
            "value": "special_tokens_map.json: 100%"
          }
        },
        "f8efe253c88b4b9d928d12d713bdd210": {
          "model_module": "@jupyter-widgets/controls",
          "model_name": "FloatProgressModel",
          "model_module_version": "1.5.0",
          "state": {
            "_dom_classes": [],
            "_model_module": "@jupyter-widgets/controls",
            "_model_module_version": "1.5.0",
            "_model_name": "FloatProgressModel",
            "_view_count": null,
            "_view_module": "@jupyter-widgets/controls",
            "_view_module_version": "1.5.0",
            "_view_name": "ProgressView",
            "bar_style": "success",
            "description": "",
            "description_tooltip": null,
            "layout": "IPY_MODEL_6e65580ee44a45fcaef0a5fd2962a715",
            "max": 296,
            "min": 0,
            "orientation": "horizontal",
            "style": "IPY_MODEL_b1fd3d1bac164682a913270f36118a4b",
            "value": 296
          }
        },
        "1bda0d95f0014a2884ef2deb53c4e5a0": {
          "model_module": "@jupyter-widgets/controls",
          "model_name": "HTMLModel",
          "model_module_version": "1.5.0",
          "state": {
            "_dom_classes": [],
            "_model_module": "@jupyter-widgets/controls",
            "_model_module_version": "1.5.0",
            "_model_name": "HTMLModel",
            "_view_count": null,
            "_view_module": "@jupyter-widgets/controls",
            "_view_module_version": "1.5.0",
            "_view_name": "HTMLView",
            "description": "",
            "description_tooltip": null,
            "layout": "IPY_MODEL_aa2338182ba048f2a611c70a00099710",
            "placeholder": "​",
            "style": "IPY_MODEL_cdd1ee65bef0430d8980b5125a6308e8",
            "value": " 296/296 [00:00&lt;00:00, 20.2kB/s]"
          }
        },
        "3334f32320804cbab2a2de374698daf3": {
          "model_module": "@jupyter-widgets/base",
          "model_name": "LayoutModel",
          "model_module_version": "1.2.0",
          "state": {
            "_model_module": "@jupyter-widgets/base",
            "_model_module_version": "1.2.0",
            "_model_name": "LayoutModel",
            "_view_count": null,
            "_view_module": "@jupyter-widgets/base",
            "_view_module_version": "1.2.0",
            "_view_name": "LayoutView",
            "align_content": null,
            "align_items": null,
            "align_self": null,
            "border": null,
            "bottom": null,
            "display": null,
            "flex": null,
            "flex_flow": null,
            "grid_area": null,
            "grid_auto_columns": null,
            "grid_auto_flow": null,
            "grid_auto_rows": null,
            "grid_column": null,
            "grid_gap": null,
            "grid_row": null,
            "grid_template_areas": null,
            "grid_template_columns": null,
            "grid_template_rows": null,
            "height": null,
            "justify_content": null,
            "justify_items": null,
            "left": null,
            "margin": null,
            "max_height": null,
            "max_width": null,
            "min_height": null,
            "min_width": null,
            "object_fit": null,
            "object_position": null,
            "order": null,
            "overflow": null,
            "overflow_x": null,
            "overflow_y": null,
            "padding": null,
            "right": null,
            "top": null,
            "visibility": null,
            "width": null
          }
        },
        "9b6e55839c014c5f97500fd48c6c1b39": {
          "model_module": "@jupyter-widgets/base",
          "model_name": "LayoutModel",
          "model_module_version": "1.2.0",
          "state": {
            "_model_module": "@jupyter-widgets/base",
            "_model_module_version": "1.2.0",
            "_model_name": "LayoutModel",
            "_view_count": null,
            "_view_module": "@jupyter-widgets/base",
            "_view_module_version": "1.2.0",
            "_view_name": "LayoutView",
            "align_content": null,
            "align_items": null,
            "align_self": null,
            "border": null,
            "bottom": null,
            "display": null,
            "flex": null,
            "flex_flow": null,
            "grid_area": null,
            "grid_auto_columns": null,
            "grid_auto_flow": null,
            "grid_auto_rows": null,
            "grid_column": null,
            "grid_gap": null,
            "grid_row": null,
            "grid_template_areas": null,
            "grid_template_columns": null,
            "grid_template_rows": null,
            "height": null,
            "justify_content": null,
            "justify_items": null,
            "left": null,
            "margin": null,
            "max_height": null,
            "max_width": null,
            "min_height": null,
            "min_width": null,
            "object_fit": null,
            "object_position": null,
            "order": null,
            "overflow": null,
            "overflow_x": null,
            "overflow_y": null,
            "padding": null,
            "right": null,
            "top": null,
            "visibility": null,
            "width": null
          }
        },
        "8b60dc5fffec49c8a4ca0881c3fdfdaf": {
          "model_module": "@jupyter-widgets/controls",
          "model_name": "DescriptionStyleModel",
          "model_module_version": "1.5.0",
          "state": {
            "_model_module": "@jupyter-widgets/controls",
            "_model_module_version": "1.5.0",
            "_model_name": "DescriptionStyleModel",
            "_view_count": null,
            "_view_module": "@jupyter-widgets/base",
            "_view_module_version": "1.2.0",
            "_view_name": "StyleView",
            "description_width": ""
          }
        },
        "6e65580ee44a45fcaef0a5fd2962a715": {
          "model_module": "@jupyter-widgets/base",
          "model_name": "LayoutModel",
          "model_module_version": "1.2.0",
          "state": {
            "_model_module": "@jupyter-widgets/base",
            "_model_module_version": "1.2.0",
            "_model_name": "LayoutModel",
            "_view_count": null,
            "_view_module": "@jupyter-widgets/base",
            "_view_module_version": "1.2.0",
            "_view_name": "LayoutView",
            "align_content": null,
            "align_items": null,
            "align_self": null,
            "border": null,
            "bottom": null,
            "display": null,
            "flex": null,
            "flex_flow": null,
            "grid_area": null,
            "grid_auto_columns": null,
            "grid_auto_flow": null,
            "grid_auto_rows": null,
            "grid_column": null,
            "grid_gap": null,
            "grid_row": null,
            "grid_template_areas": null,
            "grid_template_columns": null,
            "grid_template_rows": null,
            "height": null,
            "justify_content": null,
            "justify_items": null,
            "left": null,
            "margin": null,
            "max_height": null,
            "max_width": null,
            "min_height": null,
            "min_width": null,
            "object_fit": null,
            "object_position": null,
            "order": null,
            "overflow": null,
            "overflow_x": null,
            "overflow_y": null,
            "padding": null,
            "right": null,
            "top": null,
            "visibility": null,
            "width": null
          }
        },
        "b1fd3d1bac164682a913270f36118a4b": {
          "model_module": "@jupyter-widgets/controls",
          "model_name": "ProgressStyleModel",
          "model_module_version": "1.5.0",
          "state": {
            "_model_module": "@jupyter-widgets/controls",
            "_model_module_version": "1.5.0",
            "_model_name": "ProgressStyleModel",
            "_view_count": null,
            "_view_module": "@jupyter-widgets/base",
            "_view_module_version": "1.2.0",
            "_view_name": "StyleView",
            "bar_color": null,
            "description_width": ""
          }
        },
        "aa2338182ba048f2a611c70a00099710": {
          "model_module": "@jupyter-widgets/base",
          "model_name": "LayoutModel",
          "model_module_version": "1.2.0",
          "state": {
            "_model_module": "@jupyter-widgets/base",
            "_model_module_version": "1.2.0",
            "_model_name": "LayoutModel",
            "_view_count": null,
            "_view_module": "@jupyter-widgets/base",
            "_view_module_version": "1.2.0",
            "_view_name": "LayoutView",
            "align_content": null,
            "align_items": null,
            "align_self": null,
            "border": null,
            "bottom": null,
            "display": null,
            "flex": null,
            "flex_flow": null,
            "grid_area": null,
            "grid_auto_columns": null,
            "grid_auto_flow": null,
            "grid_auto_rows": null,
            "grid_column": null,
            "grid_gap": null,
            "grid_row": null,
            "grid_template_areas": null,
            "grid_template_columns": null,
            "grid_template_rows": null,
            "height": null,
            "justify_content": null,
            "justify_items": null,
            "left": null,
            "margin": null,
            "max_height": null,
            "max_width": null,
            "min_height": null,
            "min_width": null,
            "object_fit": null,
            "object_position": null,
            "order": null,
            "overflow": null,
            "overflow_x": null,
            "overflow_y": null,
            "padding": null,
            "right": null,
            "top": null,
            "visibility": null,
            "width": null
          }
        },
        "cdd1ee65bef0430d8980b5125a6308e8": {
          "model_module": "@jupyter-widgets/controls",
          "model_name": "DescriptionStyleModel",
          "model_module_version": "1.5.0",
          "state": {
            "_model_module": "@jupyter-widgets/controls",
            "_model_module_version": "1.5.0",
            "_model_name": "DescriptionStyleModel",
            "_view_count": null,
            "_view_module": "@jupyter-widgets/base",
            "_view_module_version": "1.2.0",
            "_view_name": "StyleView",
            "description_width": ""
          }
        }
      }
    }
  },
  "nbformat": 4,
  "nbformat_minor": 0
}